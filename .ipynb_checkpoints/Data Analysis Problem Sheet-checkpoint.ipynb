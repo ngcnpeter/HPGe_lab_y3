{
 "cells": [
  {
   "cell_type": "markdown",
   "id": "e089290f",
   "metadata": {},
   "source": [
    "## Data Analysis Problem Sheet\n",
    "\n",
    "### 1. Mean, Variance, Standard Deviation, Standard Error on the Mean and Confidence Limits [8 Marks]\n",
    "An experimenter wishes to measure the velocity, v, of an object through repeated\n",
    "measurements of the time (t) in seconds, taken to cover a fixed distance (d) in metres. Before\n",
    "each timing of the event a measurement of the distance was taken and the results recorded\n",
    "for d and t were:\n",
    "\n",
    "$$\n",
    "\\\n",
    "\\begin{array}{c|ccccccccccc}\n",
    "\\text{d (m)} & 5.98 & 5.96 & 5.97 & 5.96 & 5.95 & 5.95 & 6.00 & 5.97 & 5.97 & 5.98 & 5.95 & 5.97 \\\\\n",
    "\\hline\n",
    "\\text{t (s)} & 1.76 & 1.76 & 1.77 & 1.75 & 1.77 & 1.76 & 1.77 & 1.76 & 1.76 & 1.74 & 1.78 & 1.76 \\\\\n",
    "\\end{array}\n",
    "\\\n",
    "$$\n",
    "\n",
    "i. Calculate the values of v and then the mean values for d, t and v from the values in\n",
    "the table. [2]\n",
    "\n",
    "ii. Calculate all the uncertainties on the mean values of d, t and v. [3]\n",
    "\n",
    "iii. Calculate the mean value of v, from the mean values of d and t [1]\n",
    "\n",
    "iv. Calculate the uncertainty on the mean value found in (iii) by propagation of the\n",
    "uncertainties on the mean values of d and t [1]\n",
    "\n",
    "v. Calculate the 95% confidence level limits on v using the uncertainty on the mean\n",
    "estimated in (iv.) and assuming that the measurements are Gaussian. [1]"
   ]
  },
  {
   "cell_type": "code",
   "execution_count": 1,
   "id": "1f634c46",
   "metadata": {},
   "outputs": [],
   "source": [
    "%matplotlib inline\n",
    "import numpy as np\n",
    "import matplotlib.pyplot as plt\n",
    "from scipy import stats as stats\n",
    "from scipy import optimize \n"
   ]
  },
  {
   "cell_type": "markdown",
   "id": "2bd768ee",
   "metadata": {},
   "source": [
    "Q1ii\\\n",
    "v (m/s) =  [3.4  3.39 3.37 3.41 3.36 3.38 3.39 3.39 3.39 3.44 3.34 3.39]\\\n",
    "Means of d,t,v are 5.97m , 1.76s , 3.39m/s respectively"
   ]
  },
  {
   "cell_type": "code",
   "execution_count": 2,
   "id": "543fc2a9",
   "metadata": {},
   "outputs": [
    {
     "name": "stdout",
     "output_type": "stream",
     "text": [
      "v =  [3.4  3.39 3.37 3.41 3.36 3.38 3.39 3.39 3.39 3.44 3.34 3.39]\n",
      "means of d,t,v are 5.9675 m, 1.761666666666667 s, 3.3875329500285827 m/s\n"
     ]
    }
   ],
   "source": [
    "d = np.array([5.98,5.96,5.97,5.96,5.95,5.95,6.00,5.97,5.97,5.98,5.95,5.97]) #distance/m \n",
    "t = np.array([1.76,1.76,1.77,1.75,1.77,1.76,1.77,1.76,1.76,1.74,1.78,1.76]) #time/s\n",
    "v = d/t #velocity = distance/time / m/s\n",
    "#calculation of mean\n",
    "d_mean = np.mean(d)\n",
    "t_mean = np.mean(t)\n",
    "v_mean = np.mean(v)\n",
    "print(\"v = \", np.round(v,2))\n",
    "print(\"means of d,t,v are\", d_mean,\"m,\",t_mean,\"s,\",v_mean,\"m/s\")"
   ]
  },
  {
   "cell_type": "markdown",
   "id": "8761c761",
   "metadata": {},
   "source": [
    "Q1ii\n",
    "\n",
    "Uncertainty on mean values is the standard error of mean, given by \n",
    "$$\\sigma_{SE} = \\frac{s}{\\sqrt{n}} = \\frac{\\sigma}{\\sqrt{n-1}}$$\n",
    "where s is the sample standard deviation , $\\sigma$ is population standard deviation, and $n$ is the number of data points. $ s = \\sigma \\times \\frac{\\sqrt{n}}{\\sqrt{n-1}}$\n",
    "\n",
    "Standard errors of d,t,v are 0.0043 m 0.0030 s, 0.0067 m/s respectively"
   ]
  },
  {
   "cell_type": "code",
   "execution_count": 3,
   "id": "a3fc0e05",
   "metadata": {},
   "outputs": [
    {
     "name": "stdout",
     "output_type": "stream",
     "text": [
      "Standard errors of d,t,v are 0.0043 m 0.003 s, 0.0067 m/s\n"
     ]
    }
   ],
   "source": [
    "SE = np.std(np.array([d,t,v]),axis = 1)/np.sqrt(len(d)-1) #standard error of d,t,v\n",
    "SE = np.round(SE,4) \n",
    "print(f\"Standard errors of d,t,v are\" ,SE[0],\"m\",SE[1],\"s,\",SE[2],\"m/s\")\n"
   ]
  },
  {
   "cell_type": "markdown",
   "id": "0a57523e",
   "metadata": {},
   "source": [
    "Q1iii"
   ]
  },
  {
   "cell_type": "code",
   "execution_count": 4,
   "id": "6a67cee1",
   "metadata": {},
   "outputs": [
    {
     "name": "stdout",
     "output_type": "stream",
     "text": [
      "v =  3.39 m/s\n"
     ]
    }
   ],
   "source": [
    "v_new = d_mean/t_mean\n",
    "print(\"v = \", round(v_new,2),\"m/s\")"
   ]
  },
  {
   "cell_type": "markdown",
   "id": "026f28a5",
   "metadata": {},
   "source": [
    "Q1iv\n",
    "\n",
    "Error propagation for error in $Z$ where $Z = X/Y$ is given by\n",
    "$$\\frac{\\Delta Z}{Z} = \\sqrt{\\left(\\frac{\\Delta X}{X}\\right)^2 + \\left(\\frac{\\Delta Y}{Y}\\right)^2} $$\n",
    "where $\\Delta X$ and $\\Delta Y$ errors in $X$ and $Y$.\n",
    "\n",
    "\n",
    "The uncertainty in mean found in 1iii is 0.0063 m/s"
   ]
  },
  {
   "cell_type": "code",
   "execution_count": 5,
   "id": "c32abc1a",
   "metadata": {},
   "outputs": [
    {
     "name": "stdout",
     "output_type": "stream",
     "text": [
      "The uncertainty in mean found in 1iii is 0.0063 m/s\n"
     ]
    }
   ],
   "source": [
    "v_new_err = v_new*np.sqrt((SE[0]/d_mean)**2+(SE[1]/t_mean)**2) #error propagation using error foud in 1ii\n",
    "print(\"The uncertainty in mean found in 1iii is\", np.round(v_new_err,4), \"m/s\")"
   ]
  },
  {
   "cell_type": "markdown",
   "id": "1b0d95f1",
   "metadata": {},
   "source": [
    "Q1v\n",
    "\n",
    "In Gaussian distribution, limits of 95% confidence is mean $\\pm 1.96s$, where $s$ is the standard error of mean. The 95% confidence interval is 3.37m/s to 3.40m/s"
   ]
  },
  {
   "cell_type": "code",
   "execution_count": 6,
   "id": "11f248a5",
   "metadata": {},
   "outputs": [
    {
     "name": "stdout",
     "output_type": "stream",
     "text": [
      "The 95% confidence interval is 3.38 m/s to 3.4 m/s\n"
     ]
    }
   ],
   "source": [
    "v_upper_lim = v_new + v_new_err*1.96\n",
    "v_lower_lim = v_new - v_new_err*1.96\n",
    "print(f\"The 95% confidence interval is {np.round(v_lower_lim,2)} m/s to {np.round(v_upper_lim,2)} m/s\")"
   ]
  },
  {
   "cell_type": "markdown",
   "id": "d13ff1d6",
   "metadata": {},
   "source": [
    "### 2. Linear fit and $\\chi^2$ [10 Marks]\n",
    "An experiment is performed to test whether the current through a semiconductor device $I$,\n",
    "depends linearly on the potential drop across it, $V$. The following data are obtained.\n",
    "\n",
    "$$\n",
    "\\\n",
    "\\begin{array}{c|cccccccccc}\n",
    "\\text{V (volts)} & 0.20 & 0.40 & 0.60 & 0.80 & 1.00 & 1.20 & 1.40 & 1.60 & 1.80 & 2.00 & 2.20 \\\\\n",
    "\\hline\n",
    "\\text{I (mA)} & 4.05 & 5.20 & 6.31 & 7.25 & 8.61 & 10.00 & 11.43 & 12.72 & 14.45 & 15.82 & 17.42 \\\\\n",
    "\\end{array}\n",
    "\\\n",
    "$$\n",
    "\n",
    "The current measurements are estimated to have the same uncertainty ($𝑑𝐼 = ±0.22𝑚𝐴$),\n",
    "whilst the potential drop ($V$) is estimated to be without significant uncertainty.\n",
    "\n",
    "i. Using an appropriate program, least squares fit the data to a straight line. [3]\n",
    "\n",
    "ii. Calculate the $\\chi^2$ probability for the fit. [3]\n",
    "\n",
    "iii. On the same graph, plot the data with uncertainty bars and the best fit line. Comment\n",
    "on the outcome of the experiment in light of the $\\chi^2$ probability calculated in part ii\n",
    "and the graphical comparison of the best fit line and the data.\n",
    "[4]"
   ]
  },
  {
   "cell_type": "markdown",
   "id": "13056f0f",
   "metadata": {},
   "source": [
    "Q2i\n",
    "\n",
    "\n",
    "The least square fit is : $I = 6.71V+2.25$\\\n",
    "Errors in slope and y intercept are $0.15, 0.21$ respectively"
   ]
  },
  {
   "cell_type": "code",
   "execution_count": 7,
   "id": "ffd775d7",
   "metadata": {},
   "outputs": [
    {
     "name": "stdout",
     "output_type": "stream",
     "text": [
      "The least square fit is : I = 6.71V+2.25\n",
      "Errors in slope and y intercept are 0.15, 0.21 respectively\n"
     ]
    }
   ],
   "source": [
    "V = np.array([0.20,0.40,0.60,0.80,1.00,1.20,1.40,1.60,1.80,2.00,2.20]) #voltage/V\n",
    "I = np.array([4.05,5.20,6.31,7.25,8.61,10.00,11.43,12.72,14.45,15.82,17.42]) #current/mA\n",
    "I_err = 0.22#/mA\n",
    "I_fit_coeff, I_cov = np.polyfit(V,I,1,cov = True) #least square fit, straight line\n",
    "I_fit_err =np.sqrt(np.diag(I_cov))\n",
    "I_fit = np.poly1d(I_fit_coeff) #fitted function\n",
    "print(f\"The least square fit is : I = {I_fit_coeff[0]:.2f}V+{I_fit_coeff[1]:.2f}\")\n",
    "print(f\"Errors in slope and y intercept are {I_fit_err[0]:.2g}, {I_fit_err[1]:.2g} respectively\")\n",
    "    "
   ]
  },
  {
   "cell_type": "markdown",
   "id": "f18ab5e5",
   "metadata": {},
   "source": [
    "Normalized probability density function of $\\chi^2$ is given by:\n",
    "\n",
    "$$f(x,k) = \\frac{1}{2^{k/2}\\Gamma(k/2)} x^{(k/2-1)} \\exp{(-x/2)}$$\n",
    "where $x = \\chi^2$, $k = $ degrees of freedom (no. of data points - no. of fit parameters).\n",
    "\n",
    "Probability of obtaining a value of $\\chi^2$ between $\\chi^2_{min}$ and $\\infty$ is given by the cumulative probability function $P(x;k)$, where\n",
    "$$ P(\\chi^2_{min} \\le x \\le\\infty;k) = \\int_{\\chi^2_{min}}^\\infty f(x,k)dx  = 1-\\int_{0}^{\\chi^2_{min}} f(x,k)dx$$\n",
    "\n",
    "$\\chi^2$ probability is 0.0202"
   ]
  },
  {
   "cell_type": "code",
   "execution_count": 8,
   "id": "47e9273b",
   "metadata": {},
   "outputs": [
    {
     "name": "stdout",
     "output_type": "stream",
     "text": [
      "chi2 probability is  0.02024469034731957\n"
     ]
    }
   ],
   "source": [
    "df = len(V)-len(I_fit_coeff) #degrees of freedom\n",
    "\n",
    "def chi2_prob(fit,data,err,df):\n",
    "    '''This function calculates chi2 probability for given \n",
    "       fit array, data array,err and degrees of freedom \n",
    "       Inputs: fit  - array of fitted values\n",
    "               data - array of original data\n",
    "               err  - error \n",
    "               df   - degree of freedom\n",
    "       Outputs: chi2 probability, \n",
    "       the probability of obtaining a value of minimized chi2 \n",
    "       equal to the fit value or higher, given df'''\n",
    "    norm_resid = (fit -data)/err #normalized residual\n",
    "    chi2 = np.sum(norm_resid**2) #chi-square\n",
    "    chi2_p = 1-stats.chi2.cdf(chi2,df) #chi2 probability =  1-cumulative distribution function\n",
    "    return chi2_p\n",
    "chi2_p = chi2_prob(I_fit(V),I,I_err,df ) \n",
    "print(\"chi2 probability is \", chi2_p)"
   ]
  },
  {
   "cell_type": "markdown",
   "id": "afbdca8c",
   "metadata": {},
   "source": [
    "Q2iii"
   ]
  },
  {
   "cell_type": "code",
   "execution_count": 9,
   "id": "9e8d661b",
   "metadata": {},
   "outputs": [
    {
     "data": {
      "text/plain": [
       "<matplotlib.legend.Legend at 0x7fba2633bb50>"
      ]
     },
     "execution_count": 9,
     "metadata": {},
     "output_type": "execute_result"
    },
    {
     "data": {
      "image/png": "[encoded data removed]",
      "text/plain": [
       "<Figure size 432x288 with 1 Axes>"
      ]
     },
     "metadata": {
      "needs_background": "light"
     },
     "output_type": "display_data"
    }
   ],
   "source": [
    "plt.figure()\n",
    "plt.title('Voltage vs current across semiconductor device')\n",
    "plt.errorbar(V,I,yerr = np.full(11,0.22),fmt = '.',label=\"original data\")\n",
    "plt.plot(V,I_fit(V),label = \"linear fit\")\n",
    "plt.ylabel('I/mA')\n",
    "plt.xlabel('Voltage/V')\n",
    "plt.legend()"
   ]
  },
  {
   "cell_type": "code",
   "execution_count": 10,
   "id": "c3d8a7f0",
   "metadata": {},
   "outputs": [
    {
     "data": {
      "text/plain": [
       "Text(0.5, 0, 'Voltage/V')"
      ]
     },
     "execution_count": 10,
     "metadata": {},
     "output_type": "execute_result"
    },
    {
     "data": {
      "image/png": "[encoded data removed]",
      "text/plain": [
       "<Figure size 432x288 with 1 Axes>"
      ]
     },
     "metadata": {
      "needs_background": "light"
     },
     "output_type": "display_data"
    }
   ],
   "source": [
    "plt.figure()\n",
    "plt.title('Normalized residuals for the least square fit')\n",
    "plt.plot(V,(I_fit(V)-I)/I_err,'.')\n",
    "plt.ylabel('Normalized residuals')\n",
    "plt.xlabel('Voltage/V')\n"
   ]
  },
  {
   "cell_type": "markdown",
   "id": "ed43c875",
   "metadata": {},
   "source": [
    "From the plot of data points with fitted line and the normalized residual plots, quality of straight line fit is poor as the residuals plot shows a clear trend, and with value $>1$, i.e. the fitted points are more than $1\\sigma$ away from data points. The null hypothesis that \"current through a semiconductor device $I$, depends linearly on the potential drop across it, $V$\" is questioned because of the low value of $0.02$ of $\\chi^2$ probability, which is close to $10^{-3}$. "
   ]
  },
  {
   "cell_type": "markdown",
   "id": "f36daa44",
   "metadata": {},
   "source": [
    "### 3. Poisson Distribution and $\\chi^2$ [12 Marks]\n",
    "\n",
    "The total number of goals scored per game by UCL and Imperial for the football domestic league\n",
    "season 1965/66 is shown in the table below.\n",
    "\n",
    "$$\n",
    "\\begin{array}{c|cccccccc}\n",
    "\\text{No. of goals} & 0 & 1 & 2 & 3 & 4 & 5 & 6 & 7 \\\\\n",
    "\\hline\n",
    "\\text{Frequency per season: UCL} & 2 & 3 & 9 & 8 & 6 & 2 & 2 & 1 \\\\\n",
    "\\text{Frequency per season: Imperial} & 1 & 4 & 6 & 8 & 5 & 4 & 1 & 0 \\\\\n",
    "\\end{array}\n",
    "$$\n",
    "\n",
    "For both teams separately:\n",
    "\n",
    "i. Calculate the mean number of goals (𝜇) scored per game, the variance and the\n",
    "standard deviation. [3]\n",
    "\n",
    "ii. Using the values for the mean found in (i) calculate the theoretically expected Poisson\n",
    "frequencies for each number of goals. [3]\n",
    "\n",
    "iii. Calculate the  $\\chi^2$ probabilities  $P(\\chi^2)$ that the frequency distributions follow the\n",
    "expected Poisson distributions with the means you have determined. You can\n",
    "approximate the error on each frequency, $N$, by a Gaussian with standard deviation,\n",
    "$\\sqrt{N}$, (See Notes 2 & 3 at the end of this question). [4]\n",
    "\n",
    "iv. Plot the experimental data and theoretical Poisson distributions. [2]\n",
    "\n",
    "The Poisson distribution is given by:\n",
    "$$P(r) = \\frac{\\mu r e^{-\\mu}}{r!}$$\n",
    "\n",
    "where r is the number of goals per game and 𝜇 is the mean number of goals per game."
   ]
  },
  {
   "cell_type": "code",
   "execution_count": 11,
   "id": "d931010c",
   "metadata": {},
   "outputs": [],
   "source": [
    "N = np.arange(0,8) #no. of goals\n",
    "freq_UCL = np.array([2, 3, 9, 8, 6, 2, 2, 1]) #frequency per season:UCL\n",
    "freq_ICL = np.array([1, 4, 6, 8, 5, 4, 1, 0]) #frequency per season:ICL\n",
    "\n",
    "def goal_stat(freq):\n",
    "    \"\"\"This function takes frequency array as input\n",
    "       and performs calculations of required statistical quantities in the question\n",
    "       i.e. mean, variance, standard deviation, Poisson frequencies, chi2 probabilities\"\"\"\n",
    "     \n",
    "    mean = np.average(N,weights = freq)           #weighted average of no. of goals\n",
    "    var  = np.average((N-mean)**2,weights = freq)*np.sum(freq)/(np.sum(freq)+1) #weighted sample variance\n",
    "    std  = np.sqrt(var)                           #sample standard deviation\n",
    "    poisson_freq = np.sum(freq)*stats.poisson.pmf(N,mean) #expected Poisson frequency\n",
    "    \n",
    "    #chi2 calculations\n",
    "    #rebin (sum adjacent bins) to give sufficiently freq for approximation of Gaussian on each freq\n",
    "    freq_rebin = np.concatenate([[np.sum(freq[:2])], freq[2:6],[np.sum(freq[-3:])]])  \n",
    "    poisson_freq_rebin = np.concatenate([[np.sum(poisson_freq[:2])], \n",
    "                                         poisson_freq[2:6],[np.sum(poisson_freq[-3:])]])\n",
    "    #degree of freedom\n",
    "    #note that 2 constraints are applied:\n",
    "    #mean of sample and parent distribution are the same\n",
    "    df = len(freq_rebin)-2 \n",
    "    err = np.sqrt(poisson_freq_rebin) #Poisson fluctuation\n",
    "    chi2_p = chi2_prob(poisson_freq_rebin,freq_rebin,err,df)\n",
    "    \n",
    "    print(f\"mean = {mean:.3g},variance = {var:.3g},standard deviation = {std:.3g}\",\n",
    "          f\" \\npoisson frequencies = {np.round(poisson_freq,2)}\",f\"\\nchi2 probability = {chi2_p}\")\n",
    "    return mean, var,std,poisson_freq"
   ]
  },
  {
   "cell_type": "code",
   "execution_count": 12,
   "id": "44dce8e2",
   "metadata": {},
   "outputs": [
    {
     "name": "stdout",
     "output_type": "stream",
     "text": [
      "\n",
      " UCL\n",
      "mean = 2.97,variance = 2.56,standard deviation = 1.6  \n",
      "poisson frequencies = [1.69 5.03 7.47 7.39 5.49 3.26 1.61 0.68] \n",
      "chi2 probability = 0.8448392629222035\n",
      "\n",
      " ICL\n",
      "mean = 2.97,variance = 2.03,standard deviation = 1.43  \n",
      "poisson frequencies = [1.49 4.43 6.57 6.5  4.82 2.86 1.41 0.6 ] \n",
      "chi2 probability = 0.9080651897919297\n"
     ]
    }
   ],
   "source": [
    "#perform calculations  for UCL and ICL\n",
    "i = 0\n",
    "uni = ['UCL', 'ICL']\n",
    "for freq in [freq_UCL,freq_ICL]:\n",
    "    print('\\n',uni[i])\n",
    "    mean, var,std,poisson_freq = goal_stat(freq)\n",
    "    i+=1\n",
    "    "
   ]
  },
  {
   "cell_type": "markdown",
   "id": "dff2369f",
   "metadata": {},
   "source": [
    "Q3i \\\n",
    "For UCL: mean = 2.97 goals per game, sample variance = 2.56,sample standard deviation = 1.60\\\n",
    "For ICL: mean = 2.97 goals per game, sample variance = 2.03,sample standard deviation = 1.43\n",
    "\n",
    "Q3ii \\\n",
    "Expected Poisson frequencies for each number of goals:\\\n",
    "$$\n",
    "\\begin{array}{c|cccccccc}\n",
    "\\text{No. of goals} & 0 & 1 & 2 & 3 & 4 & 5 & 6 & 7 \\\\\n",
    "\\hline\n",
    "\\text{For UCL} & 1.69 & 5.03 & 7.47 & 7.39 & 5.49 & 3.26 & 1.61 & 0.68 \\\\\n",
    "\\text{For ICL} & 1.49 & 4.43 & 6.57 & 6.50 & 4.82 & 2.86 & 1.41 & 0.60 \\\\\n",
    "\\end{array}\n",
    "$$\n",
    "\n",
    "Q3iii\\\n",
    "$\\chi^2$ probability that the frequency distributions follow the expected Poisson distributions with the determined means. \\\n",
    "For UCL: 0.84\\\n",
    "For ICL: 0.91\n",
    "\n",
    "Note that bins (no. of goals ) 0,1 and 5,6,7 are grouped respectively due to their low occurences, to give large enough frequency for approximation of a Gaussian distribution of the frequency (>5)\n",
    "We have applied two constraints when comparing the sample and parent distributions—namely\n",
    "the means of the two distributions are the same, and the total number of\n",
    "measurements is also the same. Therefore the degree of freedom is the number of bins after re-binning minus 2.\n",
    "Error of frequency is taken as the expected Poisson fluctuation $\\sqrt{N}$, where $N$ is the expected Poisson frequency.\n",
    "\n",
    "\n",
    "Q3iv\\\n",
    "Plots:"
   ]
  },
  {
   "cell_type": "code",
   "execution_count": 13,
   "id": "1c1ded18",
   "metadata": {},
   "outputs": [
    {
     "name": "stdout",
     "output_type": "stream",
     "text": [
      "mean = 2.97,variance = 2.56,standard deviation = 1.6  \n",
      "poisson frequencies = [1.69 5.03 7.47 7.39 5.49 3.26 1.61 0.68] \n",
      "chi2 probability = 0.8448392629222035\n",
      "mean = 2.97,variance = 2.03,standard deviation = 1.43  \n",
      "poisson frequencies = [1.49 4.43 6.57 6.5  4.82 2.86 1.41 0.6 ] \n",
      "chi2 probability = 0.9080651897919297\n"
     ]
    },
    {
     "data": {
      "image/png": "[encoded data removed]",
      "text/plain": [
       "<Figure size 432x288 with 1 Axes>"
      ]
     },
     "metadata": {
      "needs_background": "light"
     },
     "output_type": "display_data"
    },
    {
     "data": {
      "image/png": "[encoded data removed]",
      "text/plain": [
       "<Figure size 432x288 with 1 Axes>"
      ]
     },
     "metadata": {
      "needs_background": "light"
     },
     "output_type": "display_data"
    }
   ],
   "source": [
    "i=0 \n",
    "#perform calculations and plots for UCL and ICL\n",
    "uni = ['UCL','ICL']\n",
    "for freq in [freq_UCL,freq_ICL]:\n",
    "    mean, var,std,poisson_freq = goal_stat(freq)\n",
    "    plt.figure()\n",
    "    plt.title(f'Frequency distribution of goals scored by {uni[i]}')\n",
    "    plt.bar(N,freq,label = 'data',alpha = 0.5)\n",
    "    plt.errorbar(N,poisson_freq,yerr = np.sqrt(poisson_freq),fmt = 'ko',label = 'expected Poisson')\n",
    "    plt.ylabel('Frequency')\n",
    "    plt.xlabel('No. of goals')\n",
    "    plt.legend()\n",
    "    i+=1"
   ]
  },
  {
   "cell_type": "markdown",
   "id": "cc9ccdfa",
   "metadata": {},
   "source": [
    "### 4. Best Fit by Minimizing $\\chi^2$ [12 Marks]\n",
    "The table below shows data obtained by a student for an experiment undertaken to measure\n",
    "the dependence on angle of incidence $\\theta_1$ of the reflection coefficients for laser light. The laser\n",
    "light is polarised parallel $R_{∥}^2$ and perpendicular $R_\\perp^2$ to the plane of incidence, reflecting off\n",
    "Perspex from air (refractive index = $1$ within experimental uncertainty). Each coefficient was\n",
    "estimated to have an uncertainty of $\\pm0.002$.\n",
    "\n",
    "$$\n",
    "\\begin{array}{c|c|c}\n",
    "\\text{Angle of Incidence ($\\theta_1$ in degrees) ($\\pm0.5$)} & R_{\\parallel}^2 & R_{\\perp}^2 \\\\\n",
    "\\hline\n",
    "10 & 0.029 & 0.036 \\\\\n",
    "15 & 0.028 & 0.039 \\\\\n",
    "20 & 0.026 & 0.042 \\\\\n",
    "25 & 0.025 & 0.046 \\\\\n",
    "30 & 0.021 & 0.052 \\\\\n",
    "35 & 0.017 & 0.063 \\\\\n",
    "40 & 0.012 & 0.075 \\\\\n",
    "45 & 0.007 & 0.090 \\\\\n",
    "50 & 0.003 & 0.112 \\\\\n",
    "55 & 0.001 & 0.142 \\\\\n",
    "60 & 0.003 & 0.185 \\\\\n",
    "65 & 0.012 & 0.245 \\\\\n",
    "70 & 0.037 & 0.326 \\\\\n",
    "75 & 0.101 & 0.447 \\\\\n",
    "80 & 0.222 & 0.602 \\\\\n",
    "85 & 0.468 & 0.825 \\\\\n",
    "\\end{array}\n",
    "$$\n",
    "\n",
    "EM theory predicts that the reflection coefficients are given by the Fresnel relations;\n",
    "$$R_{∥}^2 = \\left(\\frac{n\\cos{\\theta_1}-\\cos{\\theta_2}}{n\\cos{\\theta_1}+\\cos{\\theta_2}}\\right)^2$$\n",
    "$$R_{\\perp}^2 = \\left(\\frac{\\cos{\\theta_1}-n\\cos{\\theta_2}}{\\cos{\\theta_1}+n\\cos{\\theta_2}}\\right)^2$$\n",
    "\n",
    "Where the angle of refraction $\\theta_2$ is given by Snell’s Law, $n = \\frac{\\sin{\\theta_1}}{\\sin{\\theta_2}}$\n",
    ", $n$ being the refractive index of the Perspex.\n",
    "From the parallel polarised data, the Brewster angle was crudely estimated to be $57^{\\circ}$. At Brewster angle, as $\\theta_1 + \\theta_2 = 90^{\\circ}$, $n = \\tan{\\theta_1}$. With\n",
    "this value and by looking at the average values for the coefficients in the limit $\\theta = 0^{\\circ}$\n",
    ", where\n",
    "the two theoretical expressions for the reflection coefficients tend to the same value of\n",
    "$R^2 = \\left(\\frac{n-1}{n+1}\\right)^2$\n",
    ", an approximate value for the refractive index of Perspex ($n$), can be determined.\n",
    "\n",
    "\n",
    "\n",
    "i. Calculate the $\\chi^2$ probability $P(\\chi^2)$  for the Fresnel relations to fit all the valid data with\n",
    "the value of $n$ given by the Brewster angle (See Note 4 below). [4]\n",
    "\n",
    "ii. By using a suitable programme to minimize $\\chi^2$ , find the best fit value for the refractive\n",
    "index $n$ for each of the two polarisations each separately and then combined. Also\n",
    "calculate the $\\chi^2$ probability $P(\\chi^2)$ for the best fit of all 3 cases. [5]\n",
    "\n",
    "iii. Comment on the results found and suggest possible physical causes for the outcome\n",
    "of the experiments performed. [3]\n"
   ]
  },
  {
   "cell_type": "code",
   "execution_count": 14,
   "id": "9efe9264",
   "metadata": {},
   "outputs": [],
   "source": [
    "#load data from txt copied from the question\n",
    "theta1, R2_par, R2_perp = np.loadtxt('DAS_PS_Q4',unpack = True) \n",
    "n   = np.tan(57*np.pi/180) #n given by approximated Brewster angle"
   ]
  },
  {
   "cell_type": "code",
   "execution_count": 15,
   "id": "f7e44023",
   "metadata": {},
   "outputs": [],
   "source": [
    "R2_err = 0.002             #error in reflection coefficients\n",
    "\n",
    "#omit data less than 3*0.002(sigma) from 0\n",
    "theta1_rad= theta1*np.pi/180 #convert degree to radian\n",
    "def Fresnel_par(theta, n):\n",
    "    '''This function takes incident angle theta in radian and refractive index n \n",
    "       to give reflection coefficients with parallel polarization using Fresnel relations\n",
    "       \n",
    "       Inputs: \n",
    "       theta   incident angle\n",
    "       n       refractive index of Perpex (fitting parameter)\n",
    "       Output: \n",
    "       Array of theoretical reflection coefficients for parallel polarization\n",
    "    '''\n",
    "    theta2 = np.arcsin(np.sin(theta)/n)\n",
    "    return ((n*np.cos(theta)-np.cos(theta2))/(n*np.cos(theta)+np.cos(theta2)))**2\n",
    "\n",
    "def Fresnel_perp(theta, n):\n",
    "    '''This function takes incident angle theta in radian and refractive index n \n",
    "       to give reflection coefficients with perpendicular polarization using Fresnel relations\n",
    "       Inputs: \n",
    "       theta   incident angle\n",
    "       n       refractive index of Perpex (fitting parameter)\n",
    "       Output: \n",
    "       Array of theoretical reflection coefficients for perpendicular polarization'''\n",
    "    theta2 = np.arcsin(np.sin(theta)/n)\n",
    "    return ((np.cos(theta)-n*np.cos(theta2))/(np.cos(theta)+n*np.cos(theta2)))**2\n",
    "\n",
    "def Fresnel(theta,n):\n",
    "    '''This function takes incident angle theta in radian and refractive index n \n",
    "       to give reflection coefficients with parallel and perpendicular polarization (concatenated) \n",
    "       using Fresnel relations\n",
    "       Inputs: \n",
    "       theta   incident angle\n",
    "       n       refractive index of Perpex (fitting parameter)\n",
    "       Output: \n",
    "       Concatenated array of theoretical reflection coefficients for both polarization'''\n",
    "    return np.concatenate([Fresnel_par(theta, n),Fresnel_perp(theta, n)])\n",
    "\n",
    "\n",
    "#omit data with value <3*R2_err\n",
    "chi2_par_prob = chi2_prob(Fresnel_par(theta1_rad, n)[R2_par>0.006],\n",
    "                          R2_par[R2_par>0.006],R2_err,len(R2_par[R2_par>0.006])-1)\n",
    "chi2_perp_prob = chi2_prob(Fresnel_perp(theta1_rad, n),R2_perp,R2_err,len(R2_perp)-1)"
   ]
  },
  {
   "cell_type": "markdown",
   "id": "81eff9a9",
   "metadata": {},
   "source": [
    "Q4i\\\n",
    "From the parallel polarised data, the Brewster angle was crudely estimated to be $57^{\\circ}$. At Brewster angle, as $\\theta_1 + \\theta_2 = 90^{\\circ}$, $n = \\tan{\\theta_1}$, which is 1.540 in this case.\n",
    "The required $\\chi^2$ probability $P(\\chi^2)$ of using Fresnel relation to fit reflection coefficient of:\n",
    "parallel polarization      = 0.0\n",
    "perpendicular polarization = 0.0"
   ]
  },
  {
   "cell_type": "code",
   "execution_count": 16,
   "id": "132f9442",
   "metadata": {},
   "outputs": [
    {
     "name": "stdout",
     "output_type": "stream",
     "text": [
      "n is estimated to be 1.540 when the Brewster angle is approximated as 57 degrees\n",
      "chi2 probability for Fresnel relation to fit reflection coefficient of:\n",
      "parallel polarization      = 0.0\n",
      "perpendicular polarization = 0.0\n"
     ]
    }
   ],
   "source": [
    "print(f'n is estimated to be {n:.3f} when the Brewster angle is approximated as 57 degrees')\n",
    "print(f'chi2 probability for Fresnel relation to fit reflection coefficient of:')\n",
    "print(f'parallel polarization      = {chi2_par_prob}')\n",
    "print(f'perpendicular polarization = {chi2_perp_prob}')"
   ]
  },
  {
   "cell_type": "markdown",
   "id": "57dc7c45",
   "metadata": {},
   "source": [
    "Q4ii\n",
    "\n",
    "The arrays of measured reflection coefficients of different polarizations are combined by the means of `np.concatenate`, where the 2 arrays are concatenated into 1 array. `scipy.optimize.curve_fit` is used as the least square fit (fit to minimize $\\chi^2$). \n",
    "\n",
    "Best fit value of refractive index n for:\\\n",
    "parallel polarization:      $1.48 \\pm 0.04$\\\n",
    "perpendicular polarization: $1.57 \\pm 0.03$\\\n",
    "combined data sets:         $1.56 \\pm 0.02$"
   ]
  },
  {
   "cell_type": "code",
   "execution_count": 17,
   "id": "471a3380",
   "metadata": {},
   "outputs": [
    {
     "name": "stdout",
     "output_type": "stream",
     "text": [
      "Best fit value of refractive index n for:\n",
      "parallel polarization:      1.48 \\pm 0.04\n",
      "perpendicular polarization: 1.57 \\pm 0.03\n",
      "combined data sets:         1.56 \\pm 0.02\n"
     ]
    }
   ],
   "source": [
    "R2_combo = np.concatenate([R2_par,R2_perp]) #combined data sets\n",
    "#using scipy.optimize.curve_fit to fit the data using Fresnel relation, refractive index n as parameter\n",
    "n_par, n_par_cov = optimize.curve_fit(Fresnel_par,theta1_rad[R2_par>0.006],R2_par[R2_par>0.006])\n",
    "n_perp, n_perp_cov = optimize.curve_fit(Fresnel_perp,theta1_rad,R2_perp)\n",
    "n_fit, n_fit_cov = optimize.curve_fit(Fresnel,theta1_rad,np.concatenate([R2_par,R2_perp]))\n",
    "\n",
    "print('Best fit value of refractive index n for:')\n",
    "print(fr'parallel polarization:      {n_par[0]:.2f} \\pm {np.sqrt(np.diag(n_par_cov)[0]):.1g}')\n",
    "print(fr'perpendicular polarization: {n_perp[0]:.2f} \\pm {np.sqrt(np.diag(n_perp_cov)[0]):.1g}')\n",
    "print(fr'combined data sets:         {n_fit[0]:.2f} \\pm {np.sqrt(np.diag(n_fit_cov)[0]):.1g}')"
   ]
  },
  {
   "cell_type": "code",
   "execution_count": 18,
   "id": "7fb18e3a",
   "metadata": {},
   "outputs": [
    {
     "name": "stdout",
     "output_type": "stream",
     "text": [
      "chi2 probability for the best fit of :\n",
      "parallel polarization:      0.0\n",
      "perpendicular polarization: 0.0\n",
      "combined data sets:         0.0\n"
     ]
    }
   ],
   "source": [
    "#chi2 probability calculations\n",
    "chi2_par = chi2_prob(Fresnel_par(theta1_rad[R2_par>0.006], n_par),R2_par[R2_par>0.006],\n",
    "                     0.002,len(R2_par[R2_par>0.006])-1)\n",
    "chi2_perp = chi2_prob(Fresnel_perp(theta1_rad, n_perp),R2_perp,0.002,len(R2_perp)-1)\n",
    "chi2_fit = chi2_prob(Fresnel(theta1_rad, n_fit),R2_combo,0.002,len(R2_combo)-1)\n",
    "\n",
    "print('chi2 probability for the best fit of :')\n",
    "print(fr'parallel polarization:      {chi2_par}')\n",
    "print(fr'perpendicular polarization: {chi2_perp}')\n",
    "print(fr'combined data sets:         {chi2_fit}')"
   ]
  },
  {
   "cell_type": "markdown",
   "id": "e3859030",
   "metadata": {},
   "source": [
    "Q4iii\n",
    "\n",
    "The $\\chi2$ probabilities of the above fit are so small that the computed values are 0.\n",
    "The null hypothesis that the above data can be fitted with Fresnel relations is rejected because of the low $\\chi2$ probabilities. Rejection of the null hypothesis means that the discrepancies between the data and proposed model are very unlikely to be due to random statistical fluctuations and there must be a systematic reason for the disagreement. From the normalized residual plots below, the normalized residuals have large absolute values (>2) and a clear trend that the fit deviates more as $\\theta$ increases. \n",
    "\n",
    "First, as $\\theta$ increases, transmitted light may be internally reflected from the Perpex to air interface, resulting in secondary reflection that may be detected by photodetector, and interfere with the primary reflection. This adds complexity to the determination of reflection coefficients, hence reflection coefficients cannot be simply modelled by Fresnel relations which only describe the primary reflected beam.\n",
    "Second, the error in reflection coefficients may be underestimated, as photodetector is being moved around to accomodate the reflected beam, hence the recorded reflected beam intensity may have larger uncertainty.\n",
    "\n"
   ]
  },
  {
   "cell_type": "code",
   "execution_count": 19,
   "id": "686b7d8e",
   "metadata": {},
   "outputs": [
    {
     "data": {
      "text/plain": [
       "Text(0.5, 1.0, 'Normalized residual plots for fitting to Fresnel relations')"
      ]
     },
     "execution_count": 19,
     "metadata": {},
     "output_type": "execute_result"
    },
    {
     "data": {
      "image/png": "[encoded data removed]",
      "text/plain": [
       "<Figure size 432x288 with 1 Axes>"
      ]
     },
     "metadata": {
      "needs_background": "light"
     },
     "output_type": "display_data"
    }
   ],
   "source": [
    "plt.figure()\n",
    "plt.plot(theta1, (Fresnel_par(theta1_rad, n_par)-R2_par)/0.002,'.',label ='parallel')\n",
    "plt.plot(theta1, (Fresnel_perp(theta1_rad, n_perp)-R2_perp)/0.002,'*',label = 'perpendicular')\n",
    "plt.plot(theta1, (Fresnel_par(theta1_rad, n_fit)-R2_par)/0.002,'o',label = 'parallel, combined')\n",
    "plt.plot(theta1, (Fresnel_perp(theta1_rad, n_fit)-R2_perp)/0.002,'^',label = 'perpendicular,combined ')\n",
    "plt.legend()\n",
    "plt.xlabel('theta/degree')\n",
    "plt.ylabel('normalized residuals')\n",
    "plt.title('Normalized residual plots for fitting to Fresnel relations')"
   ]
  }
 ],
 "metadata": {
  "kernelspec": {
   "display_name": "Python 3 (ipykernel)",
   "language": "python",
   "name": "python3"
  },
  "language_info": {
   "codemirror_mode": {
    "name": "ipython",
    "version": 3
   },
   "file_extension": ".py",
   "mimetype": "text/x-python",
   "name": "python",
   "nbconvert_exporter": "python",
   "pygments_lexer": "ipython3",
   "version": "3.11.5"
  },
  "vscode": {
   "interpreter": {
    "hash": "aee8b7b246df8f9039afb4144a1f6fd8d2ca17a180786b69acc140d282b71a49"
   }
  }
 },
 "nbformat": 4,
 "nbformat_minor": 5
}
