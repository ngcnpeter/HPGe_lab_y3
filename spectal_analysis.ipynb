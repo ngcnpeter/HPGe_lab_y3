{
 "cells": [
  {
   "cell_type": "code",
   "execution_count": 19,
   "metadata": {},
   "outputs": [],
   "source": [
    "import numpy as np\n",
    "from scipy import signal\n",
    "import matplotlib.pyplot as plt\n",
    "from scipy import stats\n",
    "import pandas as pd"
   ]
  },
  {
   "cell_type": "code",
   "execution_count": 9,
   "metadata": {},
   "outputs": [],
   "source": [
    "class spectra:\n",
    "    def __init__(self, filename):\n",
    "        self.chan, self.energy, self.count= np.loadtxt('spectra/Background_16_10_23_Mon_14_50_edited.csv',delimiter = ',',skiprows=3,unpack = True)\n",
    "\n",
    "chan_bg_spec,E_bg_spec,C_bg_spec = np.loadtxt('spectra/Background_16_10_23_Mon_14_50.csv',delimiter = ',',skiprows=7,unpack = True)\n",
    "peaks, _ =signal.find_peaks(C_bg_spec)"
   ]
  },
  {
   "cell_type": "code",
   "execution_count": 20,
   "metadata": {},
   "outputs": [],
   "source": [
    "bg = pd.read_csv('spectra/Background_16_10_23_Mon_14_50.csv',delimiter = ',')"
   ]
  },
  {
   "cell_type": "code",
   "execution_count": null,
   "metadata": {},
   "outputs": [],
   "source": [
    "pk_bg = np.loadtxt('spectra/Background_16_10_23_Mon_14_50.csv',delimiter = ',',skiprows=7,unpack = True)"
   ]
  },
  {
   "cell_type": "code",
   "execution_count": 21,
   "metadata": {},
   "outputs": [
    {
     "data": {
      "text/html": [
       "<div>\n",
       "<style scoped>\n",
       "    .dataframe tbody tr th:only-of-type {\n",
       "        vertical-align: middle;\n",
       "    }\n",
       "\n",
       "    .dataframe tbody tr th {\n",
       "        vertical-align: top;\n",
       "    }\n",
       "\n",
       "    .dataframe thead th {\n",
       "        text-align: right;\n",
       "    }\n",
       "</style>\n",
       "<table border=\"1\" class=\"dataframe\">\n",
       "  <thead>\n",
       "    <tr style=\"text-align: right;\">\n",
       "      <th></th>\n",
       "      <th></th>\n",
       "      <th>Start Time</th>\n",
       "      <th>Mon Oct 16 2023 10:14:18 GMT+0100 (BST)</th>\n",
       "    </tr>\n",
       "  </thead>\n",
       "  <tbody>\n",
       "    <tr>\n",
       "      <th>Energy calibration</th>\n",
       "      <th>Offset: -0.3439140022</th>\n",
       "      <td>Slope: 0.6775230169</td>\n",
       "      <td>Quadratic: 8.387880257e-8</td>\n",
       "    </tr>\n",
       "    <tr>\n",
       "      <th>Live Time (s)</th>\n",
       "      <th>353069.86</th>\n",
       "      <td>NaN</td>\n",
       "      <td>NaN</td>\n",
       "    </tr>\n",
       "    <tr>\n",
       "      <th>Real Time (s)</th>\n",
       "      <th>354394.61</th>\n",
       "      <td>NaN</td>\n",
       "      <td>NaN</td>\n",
       "    </tr>\n",
       "    <tr>\n",
       "      <th>Elapsed Computational</th>\n",
       "      <th>0</th>\n",
       "      <td>NaN</td>\n",
       "      <td>NaN</td>\n",
       "    </tr>\n",
       "    <tr>\n",
       "      <th>Spectrum</th>\n",
       "      <th>NaN</th>\n",
       "      <td>NaN</td>\n",
       "      <td>NaN</td>\n",
       "    </tr>\n",
       "    <tr>\n",
       "      <th>...</th>\n",
       "      <th>...</th>\n",
       "      <td>...</td>\n",
       "      <td>...</td>\n",
       "    </tr>\n",
       "    <tr>\n",
       "      <th>4092</th>\n",
       "      <th>2773.4851199746568</th>\n",
       "      <td>1</td>\n",
       "      <td>NaN</td>\n",
       "    </tr>\n",
       "    <tr>\n",
       "      <th>4093</th>\n",
       "      <th>2774.1633296234345</th>\n",
       "      <td>3</td>\n",
       "      <td>NaN</td>\n",
       "    </tr>\n",
       "    <tr>\n",
       "      <th>4094</th>\n",
       "      <th>2774.84153943997</th>\n",
       "      <td>6</td>\n",
       "      <td>NaN</td>\n",
       "    </tr>\n",
       "    <tr>\n",
       "      <th>4095</th>\n",
       "      <th>2775.5197494242634</th>\n",
       "      <td>5</td>\n",
       "      <td>NaN</td>\n",
       "    </tr>\n",
       "    <tr>\n",
       "      <th>4096</th>\n",
       "      <th>2776.1979595763137</th>\n",
       "      <td>2</td>\n",
       "      <td>NaN</td>\n",
       "    </tr>\n",
       "  </tbody>\n",
       "</table>\n",
       "<p>4102 rows × 2 columns</p>\n",
       "</div>"
      ],
      "text/plain": [
       "                                                         Start Time  \\\n",
       "Energy calibration      Offset: -0.3439140022   Slope: 0.6775230169   \n",
       "Live Time (s)          353069.86                                NaN   \n",
       "Real Time (s)          354394.61                                NaN   \n",
       "Elapsed Computational  0                                        NaN   \n",
       "Spectrum              NaN                                       NaN   \n",
       "...                                                             ...   \n",
       "4092                   2773.4851199746568                         1   \n",
       "4093                   2774.1633296234345                         3   \n",
       "4094                   2774.84153943997                           6   \n",
       "4095                   2775.5197494242634                         5   \n",
       "4096                   2776.1979595763137                         2   \n",
       "\n",
       "                                               Mon Oct 16 2023 10:14:18 GMT+0100 (BST)  \n",
       "Energy calibration      Offset: -0.3439140022                Quadratic: 8.387880257e-8  \n",
       "Live Time (s)          353069.86                                                   NaN  \n",
       "Real Time (s)          354394.61                                                   NaN  \n",
       "Elapsed Computational  0                                                           NaN  \n",
       "Spectrum              NaN                                                          NaN  \n",
       "...                                                                                ...  \n",
       "4092                   2773.4851199746568                                          NaN  \n",
       "4093                   2774.1633296234345                                          NaN  \n",
       "4094                   2774.84153943997                                            NaN  \n",
       "4095                   2775.5197494242634                                          NaN  \n",
       "4096                   2776.1979595763137                                          NaN  \n",
       "\n",
       "[4102 rows x 2 columns]"
      ]
     },
     "execution_count": 21,
     "metadata": {},
     "output_type": "execute_result"
    }
   ],
   "source": [
    "bg"
   ]
  },
  {
   "cell_type": "code",
   "execution_count": null,
   "metadata": {},
   "outputs": [],
   "source": []
  }
 ],
 "metadata": {
  "kernelspec": {
   "display_name": "Python 3.10.5 64-bit",
   "language": "python",
   "name": "python3"
  },
  "language_info": {
   "codemirror_mode": {
    "name": "ipython",
    "version": 3
   },
   "file_extension": ".py",
   "mimetype": "text/x-python",
   "name": "python",
   "nbconvert_exporter": "python",
   "pygments_lexer": "ipython3",
   "version": "3.10.5"
  },
  "orig_nbformat": 4,
  "vscode": {
   "interpreter": {
    "hash": "aee8b7b246df8f9039afb4144a1f6fd8d2ca17a180786b69acc140d282b71a49"
   }
  }
 },
 "nbformat": 4,
 "nbformat_minor": 2
}
