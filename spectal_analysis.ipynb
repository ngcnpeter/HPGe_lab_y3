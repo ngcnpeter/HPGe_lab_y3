{
 "cells": [
  {
   "cell_type": "markdown",
   "metadata": {},
   "source": [
    "# HPGE Gamma Spectroscopy - Spectral Analysis"
   ]
  },
  {
   "cell_type": "code",
   "execution_count": 264,
   "metadata": {},
   "outputs": [],
   "source": [
    "import numpy as np\n",
    "import pandas as pd\n",
    "from scipy import signal\n",
    "import matplotlib.pyplot as plt\n",
    "from scipy import stats\n",
    "from scipy.optimize import curve_fit\n",
    "import io\n",
    "import requests \n",
    "from bs4 import BeautifulSoup\n"
   ]
  },
  {
   "cell_type": "code",
   "execution_count": 575,
   "metadata": {},
   "outputs": [],
   "source": [
    "def nndc(nuc):\n",
    "    '''This function takes in nuclide name nuc as input and \n",
    "       obtain nndc dataset of gamma radiation, output as pandas DataFrame'''\n",
    "    headers = {\n",
    "        'Accept': 'text/html,application/xhtml+xml,application/xml;q=0.9,image/avif,image/webp,image/apng,*/*;q=0.8,application/signed-exchange;v=b3;q=0.7',\n",
    "        'Accept-Language': 'zh-TW,zh;q=0.9,en-US;q=0.8,en;q=0.7',\n",
    "        'Cache-Control': 'no-cache',\n",
    "        'Connection': 'keep-alive',\n",
    "        'Content-Type': 'application/x-www-form-urlencoded',\n",
    "        # 'Cookie': 'JSESSIONID=D70C39328A761ABB0BA3274BD146F79E; _ga=GA1.4.404777615.1698689054; _ga_BCK578C8FS=GS1.1.1699970881.3.0.1699970881.0.0.0; _ga_M7918ZRR2Q=GS1.1.1699970881.3.0.1699970881.0.0.0; _gid=GA1.2.165605393.1699970882; _ga_F5YKVFGCQT=GS1.1.1699970895.3.1.1699971054.0.0.0; _ga=GA1.1.404777615.1698689054; _ga_92P36DL448=GS1.4.1699970895.3.1.1699971191.60.0.0',\n",
    "        'Origin': 'https://www.nndc.bnl.gov',\n",
    "        'Pragma': 'no-cache',\n",
    "        'Referer': 'https://www.nndc.bnl.gov/nudat3/indx_dec.jsp',\n",
    "        'Sec-Fetch-Dest': 'document',\n",
    "        'Sec-Fetch-Mode': 'navigate',\n",
    "        'Sec-Fetch-Site': 'same-origin',\n",
    "        'Sec-Fetch-User': '?1',\n",
    "        'Upgrade-Insecure-Requests': '1',\n",
    "        'User-Agent': 'Mozilla/5.0 (Macintosh; Intel Mac OS X 10_15_7) AppleWebKit/537.36 (KHTML, like Gecko) Chrome/119.0.0.0 Safari/537.36',\n",
    "        'sec-ch-ua': '\"Google Chrome\";v=\"119\", \"Chromium\";v=\"119\", \"Not?A_Brand\";v=\"24\"',\n",
    "        'sec-ch-ua-mobile': '?0',\n",
    "        'sec-ch-ua-platform': '\"macOS\"',\n",
    "    }\n",
    "\n",
    "    data = {\n",
    "        'spnuc': 'name',\n",
    "        'nuc': nuc,\n",
    "        'z': '',\n",
    "        'a': '',\n",
    "        'n': '',\n",
    "        'zmin': '',\n",
    "        'zmax': '',\n",
    "        'amin': '1',\n",
    "        'amax': '240',\n",
    "        'nmin': '',\n",
    "        'nmax': '',\n",
    "        'evenz': 'any',\n",
    "        'evena': 'any',\n",
    "        'evenn': 'any',\n",
    "        'tled': 'disabled',\n",
    "        'tlmin': '0',\n",
    "        'utlow': 'FS',\n",
    "        'tlmax': '1E10',\n",
    "        'utupp': 'GY',\n",
    "        'dmed': 'disabled',\n",
    "        'dmn': 'ANY',\n",
    "        'rted': 'disabled',\n",
    "        'rtn': 'ANY',\n",
    "        'reed': 'disabled',\n",
    "        'remin': '0',\n",
    "        'remax': '10000',\n",
    "        'ried': 'disabled',\n",
    "        'rimin': '0',\n",
    "        'rimax': '200',\n",
    "        'ord': 'zate',\n",
    "        'out': 'file',\n",
    "        'unc': 'stdandard',\n",
    "        'sub': 'Search',\n",
    "    }\n",
    "\n",
    "    response = requests.post('https://www.nndc.bnl.gov/nudat3/dec_searchi.jsp', headers=headers, data=data)\n",
    "    soup = BeautifulSoup(response.content,'html.parser')\n",
    "    nndc_df = pd.read_csv(io.StringIO(soup.find('pre').text), sep=\"\\t\")\n",
    "    #rename nndc columns\n",
    "    nndc_col = {'Rad Ene.  ' : 'nndc_peak_energy','Unc       .2':'BR_err','Unc       ':'E_err'} \n",
    "    nndc_df.rename(columns = nndc_col,inplace=True)\n",
    "    #adding branching ratios of gamma rad. from electron capture and other pathways of the same energy\n",
    "    nndc_df['BR'] = nndc_df.groupby(['nndc_peak_energy'])['Rad Int.  '].transform('sum')/100 #BR = intensity/100\n",
    "    nndc_df['rounded_energy'] = round(nndc_df['nndc_peak_energy'],ndigits=0)\n",
    "    nndc_df['nuc'] = nuc\n",
    "    #nndc_df['BR_err'] = nndc_df['BR_err'].astype(float)/100\n",
    "    return nndc_df[['nndc_peak_energy','E_err','BR','BR_err','rounded_energy','nuc']]\n",
    "    "
   ]
  },
  {
   "cell_type": "code",
   "execution_count": 618,
   "metadata": {},
   "outputs": [
    {
     "name": "stderr",
     "output_type": "stream",
     "text": [
      "/var/folders/vh/bwtbn9cn1xlbm74kxlygt5b80000gn/T/ipykernel_58636/2157763799.py:2: ParserWarning: Falling back to the 'python' engine because the 'c' engine does not support regex separators (separators > 1 char and different from '\\s+' are interpreted as regex); you can avoid this warning by specifying engine='python'.\n",
      "  pp_df = pd.read_csv('Data/Photopeak_References/PhotoPeak.txt',sep = '[ \\s]{2,}|\\t',names = ['Photopeak_Energy','Nuclide','BR','Dose']) #photopeak dataframe\n"
     ]
    }
   ],
   "source": [
    "#store reference photopeaks as pd.DataFrame\n",
    "pp_df = pd.read_csv('Data/Photopeak_References/PhotoPeak.txt',sep = '[ \\s]{2,}|\\t',names = ['Photopeak_Energy','Nuclide','BR','Dose']) #photopeak dataframe\n",
    "pp_df = pp_df.astype({'Photopeak_Energy':float,'Nuclide':str, 'BR':float,'Dose':float})\n",
    "pp_df['BR'] = pp_df['BR']*0.01 #convert percentage to decimals\n",
    "\n",
    "def peak_df(filename):\n",
    "    ''' This function converts the peak data csv into  a pandas dataframe \n",
    "       Input: filename - file path of csv\n",
    "       Output: df2 '''\n",
    "    df = pd.read_csv(filename,delimiter = ',',header = [0,1]).droplevel(1,axis = 1)\n",
    "    rename_dict = {' Nuclide':'Nuclide',' Photopeak_Energy':'Photopeak_Energy','      Peak':'Peak_CPS'\n",
    "    ,' FWHM':'FWHM','  Net_Area':'Net_Area_Count','Reduced':'Reduced_chi2'}\n",
    "    #dtype_dict = {'Photopeak_Energy':float,'Centroid':float,'Peak_CPS':float,'FWHM':float,'Net_Area_Count':float,''}\n",
    "    df.rename(columns = rename_dict,inplace = True)\n",
    "    df.dropna(subset='Nuclide',inplace = True)\n",
    "    df.reset_index(inplace=True) #for merging nuc column later\n",
    "    return df[['Centroid','Nuclide','Photopeak_Energy','Net_Area_Count','Peak_CPS','FWHM','Reduced_chi2']]\n",
    "\n",
    "def nndc_all(df):\n",
    "    '''This function takes in the peak dataframes and find all the nuclides identified, \n",
    "       then  output a concatenated dataframe of nndc gamma radiation data for each nuclide (obtained from nndc function defined above)'''\n",
    "    nuc = df['Nuclide'].dropna().drop(df[df['Nuclide']=='Annihilation'].index)\n",
    "    nuc = list(set([i[0] for i in nuc.str.findall('\\w+\\d+')])) #unique nuclide names\n",
    "    df2 = pd.DataFrame()\n",
    "    for i in nuc:\n",
    "        nndc_df = nndc(i)\n",
    "        df2 = pd.concat([df2,nndc_df])\n",
    "    return df2\n",
    "\n",
    "\n",
    "\n",
    "    \n",
    "# class peak():\n",
    "#     def __init__(self,df):\n",
    "#         self.df = df\n",
    "#     def name(self,name):\n",
    "#         return self.df.loc[self.df.isin({'Nuclide':[name]})]\n",
    "        \n"
   ]
  },
  {
   "cell_type": "code",
   "execution_count": 716,
   "metadata": {},
   "outputs": [],
   "source": [
    "path1 = 'Data/Peaks/peaks_Sample1_30_10_23_Mon_09_22.CSV' #peak sample 1\n",
    "path2 = 'Data/Peaks/peaks_Sample2_31_10_23_14_08.CSV'\n",
    "path3 = 'Data/Peaks/peaks_Sample3_07_11_23_Tues_11_50.CSV'\n",
    "path4 = 'Data/Peaks/peaks_Sample4_13_11_23_Mon_14_06.CSV'\n",
    "path5 = 'Data/Peaks/peaks_IAEA_sample_05_12_22.CSV'\n",
    "path_bg = 'Data/Peaks/peaks_background_17_10_23.csv'\n",
    "path_list = [path_bg,path1,path2,path3,path4,path5]\n",
    "# df_1 = peak_df(path1)\n",
    "# df_2 = peak_df(path2)\n",
    "# df_bg= peak_df(path_bg)\n",
    "df_initial = pd.concat([peak_df(path) for path in path_list],keys = range(len(path_list)))"
   ]
  },
  {
   "cell_type": "code",
   "execution_count": 713,
   "metadata": {},
   "outputs": [],
   "source": [
    "nndc_df = nndc_all(df_initial.reset_index())"
   ]
  },
  {
   "cell_type": "code",
   "execution_count": 647,
   "metadata": {},
   "outputs": [],
   "source": [
    "def peak_df_new(df):\n",
    "    '''This function adds additional columns to input peak df:\n",
    "       1. BR -branching ratio by merging the dataframe from nndc_all() with df on rounded energy \n",
    "       (due to discrepancies between interspec and nndc photopeak datasets) \n",
    "       2. Centroid error\n",
    "       3. FWHM error\n",
    "       4. Resolution\n",
    "       5. Resolution error\n",
    "       6. Effective activity - CPS over BR\n",
    "       \n",
    "       Input: peak dataframe\n",
    "       Output: peak dataframe with added columns'''\n",
    "    df['rounded_energy'] = round(df['Photopeak_Energy'],ndigits = 0)\n",
    "    df = df.dropna(subset='Nuclide').drop(df[df['Nuclide']=='Annihilation'].index)\n",
    "    nuc = df['Nuclide']\n",
    "    df['nuc'] =  pd.Series([i[0] for i in nuc.str.findall('\\w+\\d+')])\n",
    "    df2 = df.merge(nndc_df,how = 'left' ,on = ['rounded_energy', 'nuc'])\n",
    "    df2 = df2.groupby('Photopeak_Energy').max()\n",
    "    df2['Centroid_err'] = df2['FWHM']/2/np.sqrt(2*np.log(2)*df2['Net_Area_Count'])#Centroid error\n",
    "    df2['FWHM_err'] = df2['Centroid_err']*np.sqrt(np.log(2))*2 #FWHM error \n",
    "    df2['Resolution'] = df2['FWHM']/df2['Centroid']\n",
    "    df2['Resolution_err']= df2['Resolution']*np.sqrt((df2['Centroid_err']/df2['Centroid'])**2+(df2['FWHM_err']/df2['FWHM'])**2)\n",
    "    df2['Peak_CPS_BR'] = df2['Peak_CPS']/df2['BR']\n",
    "    df2.dropna(inplace = True)\n",
    "    return df2.reset_index()"
   ]
  },
  {
   "cell_type": "code",
   "execution_count": 717,
   "metadata": {},
   "outputs": [
    {
     "data": {
      "text/html": [
       "<div>\n",
       "<style scoped>\n",
       "    .dataframe tbody tr th:only-of-type {\n",
       "        vertical-align: middle;\n",
       "    }\n",
       "\n",
       "    .dataframe tbody tr th {\n",
       "        vertical-align: top;\n",
       "    }\n",
       "\n",
       "    .dataframe thead th {\n",
       "        text-align: right;\n",
       "    }\n",
       "</style>\n",
       "<table border=\"1\" class=\"dataframe\">\n",
       "  <thead>\n",
       "    <tr style=\"text-align: right;\">\n",
       "      <th></th>\n",
       "      <th>Photopeak_Energy</th>\n",
       "      <th>Centroid</th>\n",
       "      <th>Nuclide</th>\n",
       "      <th>Net_Area_Count</th>\n",
       "      <th>Peak_CPS</th>\n",
       "      <th>FWHM</th>\n",
       "      <th>Reduced_chi2</th>\n",
       "      <th>rounded_energy</th>\n",
       "      <th>nuc</th>\n",
       "      <th>nndc_peak_energy</th>\n",
       "      <th>E_err</th>\n",
       "      <th>BR</th>\n",
       "      <th>BR_err</th>\n",
       "      <th>Centroid_err</th>\n",
       "      <th>FWHM_err</th>\n",
       "      <th>Resolution</th>\n",
       "      <th>Resolution_err</th>\n",
       "      <th>Peak_CPS_BR</th>\n",
       "    </tr>\n",
       "  </thead>\n",
       "  <tbody>\n",
       "    <tr>\n",
       "      <th>38</th>\n",
       "      <td>1460.75</td>\n",
       "      <td>1461.0</td>\n",
       "      <td>K40</td>\n",
       "      <td>77126.2</td>\n",
       "      <td>0.11126</td>\n",
       "      <td>1.89</td>\n",
       "      <td>6.73</td>\n",
       "      <td>1461.0</td>\n",
       "      <td>K40</td>\n",
       "      <td>1460.82</td>\n",
       "      <td>0.005</td>\n",
       "      <td>0.1066</td>\n",
       "      <td>0.17</td>\n",
       "      <td>0.00289</td>\n",
       "      <td>0.004812</td>\n",
       "      <td>0.001294</td>\n",
       "      <td>0.000003</td>\n",
       "      <td>1.043715</td>\n",
       "    </tr>\n",
       "  </tbody>\n",
       "</table>\n",
       "</div>"
      ],
      "text/plain": [
       "    Photopeak_Energy  Centroid Nuclide  Net_Area_Count  Peak_CPS  FWHM  \\\n",
       "38           1460.75    1461.0     K40         77126.2   0.11126  1.89   \n",
       "\n",
       "    Reduced_chi2  rounded_energy  nuc  nndc_peak_energy       E_err      BR  \\\n",
       "38          6.73          1461.0  K40           1460.82  0.005       0.1066   \n",
       "\n",
       "   BR_err  Centroid_err  FWHM_err  Resolution  Resolution_err  Peak_CPS_BR  \n",
       "38   0.17       0.00289  0.004812    0.001294        0.000003     1.043715  "
      ]
     },
     "execution_count": 717,
     "metadata": {},
     "output_type": "execute_result"
    }
   ],
   "source": [
    "#concat all dataframes\n",
    "df = pd.concat([peak_df_new(peak_df(path)) for path in path_list],keys = range(len(path_list)))\n",
    "#df.loc[n] would give n+1 th dataframe, same as the order in path list\n",
    "df.loc[2][df.loc[2]['nuc']=='K40']\n",
    "# for i in range(len(path_list)):\n",
    "#     df_dict[f'df{i}'] = peak_df_new(peak_df(path_list[i]))\n",
    "# peak_df_new(peak_df(path1))\n",
    "# peak_df_new(peak_df(path2))\n",
    "# peak_df_new(peak_df(path2))"
   ]
  },
  {
   "cell_type": "code",
   "execution_count": 6,
   "metadata": {},
   "outputs": [],
   "source": [
    "def chi2_prob(fit,data,err,df):\n",
    "    '''This function calculates chi2 probability for given \n",
    "       fit array, data array,err and degrees of freedom \n",
    "       Inputs: fit  - array of fitted values\n",
    "               data - array of original data\n",
    "               err  - error \n",
    "               df   - degree of freedom\n",
    "       Outputs: chi2 probability, \n",
    "       the probability of obtaining a value of minimized chi2 \n",
    "       equal to the fit value or higher, given df'''\n",
    "    norm_resid = (fit -data)/err #normalized residual\n",
    "    chi2 = np.sum(norm_resid**2) #chi-square\n",
    "    chi2_red = chi2/df\n",
    "    chi2_p = 1-stats.chi2.cdf(chi2,df) #chi2 probability =  1-cumulative distribution function\n",
    "    print(f' chi2: {chi2} \\n reduced chi2: {chi2_red}\\n chi2 p-value: {chi2_p}')\n",
    "    return chi2,chi2_red, chi2_p"
   ]
  },
  {
   "cell_type": "code",
   "execution_count": 672,
   "metadata": {},
   "outputs": [],
   "source": [
    "import matplotlib.pyplot as plt\n",
    "from matplotlib.lines import Line2D\n",
    "marker_list = list(Line2D.markers.keys())"
   ]
  },
  {
   "cell_type": "code",
   "execution_count": 703,
   "metadata": {},
   "outputs": [
    {
     "data": {
      "text/plain": [
       "Text(0, 0.5, 'Error on FWHM/keV')"
      ]
     },
     "execution_count": 703,
     "metadata": {},
     "output_type": "execute_result"
    },
    {
     "data": {
      "image/png": "[encoded data removed]",
      "text/plain": [
       "<Figure size 640x480 with 1 Axes>"
      ]
     },
     "metadata": {},
     "output_type": "display_data"
    }
   ],
   "source": [
    "label_list = ['Background','Sample 1','Sample 2','Sample 3','Sample 4','IAEA Sample']\n",
    "plt.figure()\n",
    "plt.title(r'Errors on FWHM in different spectra')\n",
    "for i in [0,1,5]:\n",
    "    plt.plot(df.loc[i]['Centroid'], df.loc[i]['FWHM_err'],marker_list[3+i],label = label_list[i])\n",
    "plt.legend()\n",
    "plt.xlabel('Centroid of fitted peak/keV')\n",
    "plt.ylabel(r'Error on FWHM/keV')\n",
    "#plt.savefig('centroid_err.pdf')"
   ]
  },
  {
   "cell_type": "code",
   "execution_count": 718,
   "metadata": {},
   "outputs": [
    {
     "data": {
      "text/plain": [
       "Text(0, 0.5, 'Reduced $\\\\chi^2$')"
      ]
     },
     "execution_count": 718,
     "metadata": {},
     "output_type": "execute_result"
    },
    {
     "data": {
      "image/png": "[encoded data removed]",
      "text/plain": [
       "<Figure size 640x480 with 1 Axes>"
      ]
     },
     "metadata": {},
     "output_type": "display_data"
    }
   ],
   "source": [
    "plt.figure()\n",
    "plt.title(r'Reduced $\\chi^2$ of fitted peaks')\n",
    "\n",
    "for i in [0,1,5]:\n",
    "    plt.plot(df.loc[i]['Centroid'], df.loc[i]['Reduced_chi2'],marker_list[3+i],label = label_list[i])\n",
    "plt.legend()\n",
    "plt.yscale('log')\n",
    "plt.xlabel('Centroid of fitted peak/keV')\n",
    "plt.ylabel(r'Reduced $\\chi^2$')\n",
    "#plt.savefig('reduced_chi2_gaussian.pdf')\n"
   ]
  },
  {
   "cell_type": "markdown",
   "metadata": {},
   "source": [
    "FWHM of Gaussian = $2\\sqrt{2\\ln{2}}\\sigma$, where $\\sigma$ is standard deviation. \\\n",
    "Error in centroid of Gaussian can be given by standard error on mean, which is $\\sigma/\\sqrt{n}$. \\\n",
    "$n$ is the number of samples, i.e. total no. of counts under the peak in this  case"
   ]
  },
  {
   "cell_type": "markdown",
   "metadata": {},
   "source": [
    "Loading peak data csv into pd.DataFrame"
   ]
  },
  {
   "cell_type": "markdown",
   "metadata": {},
   "source": [
    "## Energy Calibration"
   ]
  },
  {
   "cell_type": "code",
   "execution_count": 690,
   "metadata": {},
   "outputs": [],
   "source": [
    "#convert peak energy to channel number (fraction of channel number) using Lynx calibration\n",
    "#Lynx calibration: energy = a * Ch^2 + b*Ch + c\n",
    "a = 8.387880257e-8\n",
    "b = 0.6775230169\n",
    "c = -0.3439140022\n",
    "\n",
    "energy_to_chan = lambda x : (-b + np.sqrt(b**2-4*a*(c-x)))/2/a #quadratic formula\n",
    "\n",
    "# grad = 0.6775230169 #gradient\n",
    "# interc = -0.3439140022 #intercept\n",
    "# energy_to_chan = np.poly1d([1/grad,-interc/grad])\n"
   ]
  },
  {
   "cell_type": "code",
   "execution_count": 707,
   "metadata": {},
   "outputs": [
    {
     "data": {
      "text/html": [
       "<div>\n",
       "<style scoped>\n",
       "    .dataframe tbody tr th:only-of-type {\n",
       "        vertical-align: middle;\n",
       "    }\n",
       "\n",
       "    .dataframe tbody tr th {\n",
       "        vertical-align: top;\n",
       "    }\n",
       "\n",
       "    .dataframe thead th {\n",
       "        text-align: right;\n",
       "    }\n",
       "</style>\n",
       "<table border=\"1\" class=\"dataframe\">\n",
       "  <thead>\n",
       "    <tr style=\"text-align: right;\">\n",
       "      <th></th>\n",
       "      <th>Photopeak_Energy</th>\n",
       "      <th>Centroid</th>\n",
       "      <th>Nuclide</th>\n",
       "      <th>Net_Area_Count</th>\n",
       "      <th>Peak_CPS</th>\n",
       "      <th>FWHM</th>\n",
       "      <th>Reduced_chi2</th>\n",
       "      <th>rounded_energy</th>\n",
       "      <th>nuc</th>\n",
       "      <th>nndc_peak_energy</th>\n",
       "      <th>E_err</th>\n",
       "      <th>BR</th>\n",
       "      <th>BR_err</th>\n",
       "      <th>Centroid_err</th>\n",
       "      <th>FWHM_err</th>\n",
       "      <th>Resolution</th>\n",
       "      <th>Resolution_err</th>\n",
       "      <th>Peak_CPS_BR</th>\n",
       "    </tr>\n",
       "  </thead>\n",
       "  <tbody>\n",
       "    <tr>\n",
       "      <th>0</th>\n",
       "      <td>59.54</td>\n",
       "      <td>59.83</td>\n",
       "      <td>Am241</td>\n",
       "      <td>971.3</td>\n",
       "      <td>0.000812</td>\n",
       "      <td>0.75</td>\n",
       "      <td>2.26</td>\n",
       "      <td>60.0</td>\n",
       "      <td>Am241</td>\n",
       "      <td>59.5409</td>\n",
       "      <td>1.0E-4</td>\n",
       "      <td>0.35900</td>\n",
       "      <td>0.4</td>\n",
       "      <td>0.010219</td>\n",
       "      <td>0.017016</td>\n",
       "      <td>0.012536</td>\n",
       "      <td>0.000284</td>\n",
       "      <td>0.002263</td>\n",
       "    </tr>\n",
       "    <tr>\n",
       "      <th>1</th>\n",
       "      <td>63.29</td>\n",
       "      <td>63.71</td>\n",
       "      <td>Th234</td>\n",
       "      <td>1283.0</td>\n",
       "      <td>0.001073</td>\n",
       "      <td>1.07</td>\n",
       "      <td>2.26</td>\n",
       "      <td>63.0</td>\n",
       "      <td>Th234</td>\n",
       "      <td>63.2900</td>\n",
       "      <td>0.02</td>\n",
       "      <td>0.03700</td>\n",
       "      <td>0.4</td>\n",
       "      <td>0.012686</td>\n",
       "      <td>0.021123</td>\n",
       "      <td>0.016795</td>\n",
       "      <td>0.000332</td>\n",
       "      <td>0.029003</td>\n",
       "    </tr>\n",
       "    <tr>\n",
       "      <th>5</th>\n",
       "      <td>99.51</td>\n",
       "      <td>99.66</td>\n",
       "      <td>Ac228</td>\n",
       "      <td>1522.5</td>\n",
       "      <td>0.001273</td>\n",
       "      <td>1.41</td>\n",
       "      <td>2.79</td>\n",
       "      <td>100.0</td>\n",
       "      <td>Ac228</td>\n",
       "      <td>100.4100</td>\n",
       "      <td>0.03</td>\n",
       "      <td>0.01260</td>\n",
       "      <td>6.0E-4</td>\n",
       "      <td>0.015346</td>\n",
       "      <td>0.025552</td>\n",
       "      <td>0.014148</td>\n",
       "      <td>0.000256</td>\n",
       "      <td>0.101063</td>\n",
       "    </tr>\n",
       "    <tr>\n",
       "      <th>7</th>\n",
       "      <td>129.06</td>\n",
       "      <td>129.29</td>\n",
       "      <td>Ac228</td>\n",
       "      <td>2935.4</td>\n",
       "      <td>0.002455</td>\n",
       "      <td>0.75</td>\n",
       "      <td>2.88</td>\n",
       "      <td>129.0</td>\n",
       "      <td>Ac228</td>\n",
       "      <td>129.0650</td>\n",
       "      <td>0.97</td>\n",
       "      <td>0.02430</td>\n",
       "      <td>7.0E-4</td>\n",
       "      <td>0.005879</td>\n",
       "      <td>0.009788</td>\n",
       "      <td>0.005801</td>\n",
       "      <td>0.000076</td>\n",
       "      <td>0.101041</td>\n",
       "    </tr>\n",
       "    <tr>\n",
       "      <th>8</th>\n",
       "      <td>153.98</td>\n",
       "      <td>154.23</td>\n",
       "      <td>Ac228</td>\n",
       "      <td>1237.1</td>\n",
       "      <td>0.001035</td>\n",
       "      <td>0.41</td>\n",
       "      <td>1.77</td>\n",
       "      <td>154.0</td>\n",
       "      <td>Ac228</td>\n",
       "      <td>153.9770</td>\n",
       "      <td>0.1</td>\n",
       "      <td>0.00722</td>\n",
       "      <td>1.6E-4</td>\n",
       "      <td>0.004950</td>\n",
       "      <td>0.008243</td>\n",
       "      <td>0.002658</td>\n",
       "      <td>0.000053</td>\n",
       "      <td>0.143310</td>\n",
       "    </tr>\n",
       "    <tr>\n",
       "      <th>13</th>\n",
       "      <td>270.25</td>\n",
       "      <td>270.53</td>\n",
       "      <td>Ac228</td>\n",
       "      <td>4413.5</td>\n",
       "      <td>0.003692</td>\n",
       "      <td>1.34</td>\n",
       "      <td>2.26</td>\n",
       "      <td>270.0</td>\n",
       "      <td>Ac228</td>\n",
       "      <td>270.2450</td>\n",
       "      <td>0.002</td>\n",
       "      <td>0.03460</td>\n",
       "      <td>0.16E-5</td>\n",
       "      <td>0.008566</td>\n",
       "      <td>0.014263</td>\n",
       "      <td>0.004953</td>\n",
       "      <td>0.000053</td>\n",
       "      <td>0.106694</td>\n",
       "    </tr>\n",
       "    <tr>\n",
       "      <th>24</th>\n",
       "      <td>755.32</td>\n",
       "      <td>755.66</td>\n",
       "      <td>Ac228</td>\n",
       "      <td>561.6</td>\n",
       "      <td>0.000470</td>\n",
       "      <td>1.96</td>\n",
       "      <td>0.37</td>\n",
       "      <td>755.0</td>\n",
       "      <td>Ac228</td>\n",
       "      <td>755.3150</td>\n",
       "      <td>0.004</td>\n",
       "      <td>0.01000</td>\n",
       "      <td>0.1E-5</td>\n",
       "      <td>0.035122</td>\n",
       "      <td>0.058483</td>\n",
       "      <td>0.002594</td>\n",
       "      <td>0.000077</td>\n",
       "      <td>0.046972</td>\n",
       "    </tr>\n",
       "    <tr>\n",
       "      <th>33</th>\n",
       "      <td>934.06</td>\n",
       "      <td>934.41</td>\n",
       "      <td>Bi214</td>\n",
       "      <td>804.6</td>\n",
       "      <td>0.000673</td>\n",
       "      <td>1.67</td>\n",
       "      <td>2.73</td>\n",
       "      <td>934.0</td>\n",
       "      <td>Bi214</td>\n",
       "      <td>934.5000</td>\n",
       "      <td>0.5</td>\n",
       "      <td>0.03094</td>\n",
       "      <td>0.16E-5</td>\n",
       "      <td>0.025002</td>\n",
       "      <td>0.041630</td>\n",
       "      <td>0.001787</td>\n",
       "      <td>0.000045</td>\n",
       "      <td>0.021751</td>\n",
       "    </tr>\n",
       "    <tr>\n",
       "      <th>36</th>\n",
       "      <td>1000.99</td>\n",
       "      <td>1001.35</td>\n",
       "      <td>Pa234m</td>\n",
       "      <td>294.8</td>\n",
       "      <td>0.000247</td>\n",
       "      <td>1.38</td>\n",
       "      <td>1.94</td>\n",
       "      <td>1001.0</td>\n",
       "      <td>Pa234</td>\n",
       "      <td>1001.0300</td>\n",
       "      <td>0.1</td>\n",
       "      <td>0.00842</td>\n",
       "      <td>0.09E-6</td>\n",
       "      <td>0.034132</td>\n",
       "      <td>0.056833</td>\n",
       "      <td>0.001378</td>\n",
       "      <td>0.000057</td>\n",
       "      <td>0.029285</td>\n",
       "    </tr>\n",
       "    <tr>\n",
       "      <th>38</th>\n",
       "      <td>1155.19</td>\n",
       "      <td>1155.42</td>\n",
       "      <td>Bi214</td>\n",
       "      <td>465.9</td>\n",
       "      <td>0.000390</td>\n",
       "      <td>2.25</td>\n",
       "      <td>1.17</td>\n",
       "      <td>1155.0</td>\n",
       "      <td>Bi214</td>\n",
       "      <td>1155.2100</td>\n",
       "      <td>0.008</td>\n",
       "      <td>0.01634</td>\n",
       "      <td>0.4E-6</td>\n",
       "      <td>0.044267</td>\n",
       "      <td>0.073709</td>\n",
       "      <td>0.001947</td>\n",
       "      <td>0.000064</td>\n",
       "      <td>0.023849</td>\n",
       "    </tr>\n",
       "    <tr>\n",
       "      <th>39</th>\n",
       "      <td>1238.11</td>\n",
       "      <td>1238.45</td>\n",
       "      <td>Bi214</td>\n",
       "      <td>1475.8</td>\n",
       "      <td>0.001234</td>\n",
       "      <td>1.91</td>\n",
       "      <td>2.87</td>\n",
       "      <td>1238.0</td>\n",
       "      <td>Bi214</td>\n",
       "      <td>1238.1220</td>\n",
       "      <td>0.01</td>\n",
       "      <td>0.05830</td>\n",
       "      <td>0.03</td>\n",
       "      <td>0.021114</td>\n",
       "      <td>0.035156</td>\n",
       "      <td>0.001542</td>\n",
       "      <td>0.000028</td>\n",
       "      <td>0.021173</td>\n",
       "    </tr>\n",
       "    <tr>\n",
       "      <th>40</th>\n",
       "      <td>1280.96</td>\n",
       "      <td>1281.23</td>\n",
       "      <td>Bi214</td>\n",
       "      <td>456.6</td>\n",
       "      <td>0.000382</td>\n",
       "      <td>2.26</td>\n",
       "      <td>1.53</td>\n",
       "      <td>1281.0</td>\n",
       "      <td>Bi214</td>\n",
       "      <td>1280.9760</td>\n",
       "      <td>0.012</td>\n",
       "      <td>0.01435</td>\n",
       "      <td>0.06E-6</td>\n",
       "      <td>0.044914</td>\n",
       "      <td>0.074787</td>\n",
       "      <td>0.001764</td>\n",
       "      <td>0.000058</td>\n",
       "      <td>0.026614</td>\n",
       "    </tr>\n",
       "    <tr>\n",
       "      <th>46</th>\n",
       "      <td>1620.50</td>\n",
       "      <td>1621.13</td>\n",
       "      <td>Bi212</td>\n",
       "      <td>470.5</td>\n",
       "      <td>0.000394</td>\n",
       "      <td>1.90</td>\n",
       "      <td>2.49</td>\n",
       "      <td>1620.0</td>\n",
       "      <td>Bi212</td>\n",
       "      <td>1620.5000</td>\n",
       "      <td>0.1</td>\n",
       "      <td>0.01470</td>\n",
       "      <td>0.19E-5</td>\n",
       "      <td>0.037198</td>\n",
       "      <td>0.061938</td>\n",
       "      <td>0.001172</td>\n",
       "      <td>0.000038</td>\n",
       "      <td>0.026771</td>\n",
       "    </tr>\n",
       "    <tr>\n",
       "      <th>48</th>\n",
       "      <td>1661.28</td>\n",
       "      <td>1661.55</td>\n",
       "      <td>Bi214</td>\n",
       "      <td>198.0</td>\n",
       "      <td>0.000166</td>\n",
       "      <td>1.93</td>\n",
       "      <td>1.64</td>\n",
       "      <td>1661.0</td>\n",
       "      <td>Bi214</td>\n",
       "      <td>1661.2740</td>\n",
       "      <td>0.017</td>\n",
       "      <td>0.01046</td>\n",
       "      <td>0.11E-7</td>\n",
       "      <td>0.058246</td>\n",
       "      <td>0.096986</td>\n",
       "      <td>0.001162</td>\n",
       "      <td>0.000058</td>\n",
       "      <td>0.015833</td>\n",
       "    </tr>\n",
       "    <tr>\n",
       "      <th>49</th>\n",
       "      <td>1729.59</td>\n",
       "      <td>1729.95</td>\n",
       "      <td>Bi214</td>\n",
       "      <td>685.0</td>\n",
       "      <td>0.000573</td>\n",
       "      <td>2.12</td>\n",
       "      <td>2.61</td>\n",
       "      <td>1730.0</td>\n",
       "      <td>Bi214</td>\n",
       "      <td>1729.5950</td>\n",
       "      <td>0.015</td>\n",
       "      <td>0.02870</td>\n",
       "      <td>0.03E-6</td>\n",
       "      <td>0.034398</td>\n",
       "      <td>0.057276</td>\n",
       "      <td>0.001225</td>\n",
       "      <td>0.000033</td>\n",
       "      <td>0.019964</td>\n",
       "    </tr>\n",
       "    <tr>\n",
       "      <th>51</th>\n",
       "      <td>1847.42</td>\n",
       "      <td>1847.88</td>\n",
       "      <td>Bi214</td>\n",
       "      <td>454.5</td>\n",
       "      <td>0.000380</td>\n",
       "      <td>1.95</td>\n",
       "      <td>2.16</td>\n",
       "      <td>1847.0</td>\n",
       "      <td>Bi214</td>\n",
       "      <td>1847.4330</td>\n",
       "      <td>0.017</td>\n",
       "      <td>0.02027</td>\n",
       "      <td>0.14E-6</td>\n",
       "      <td>0.038843</td>\n",
       "      <td>0.064677</td>\n",
       "      <td>0.001055</td>\n",
       "      <td>0.000035</td>\n",
       "      <td>0.018753</td>\n",
       "    </tr>\n",
       "    <tr>\n",
       "      <th>52</th>\n",
       "      <td>2118.55</td>\n",
       "      <td>2119.12</td>\n",
       "      <td>Bi214</td>\n",
       "      <td>338.8</td>\n",
       "      <td>0.000283</td>\n",
       "      <td>2.66</td>\n",
       "      <td>0.91</td>\n",
       "      <td>2119.0</td>\n",
       "      <td>Bi214</td>\n",
       "      <td>2118.5130</td>\n",
       "      <td>0.03</td>\n",
       "      <td>0.01156</td>\n",
       "      <td>0.13E-7</td>\n",
       "      <td>0.061369</td>\n",
       "      <td>0.102187</td>\n",
       "      <td>0.001255</td>\n",
       "      <td>0.000048</td>\n",
       "      <td>0.024513</td>\n",
       "    </tr>\n",
       "    <tr>\n",
       "      <th>53</th>\n",
       "      <td>2204.21</td>\n",
       "      <td>2204.28</td>\n",
       "      <td>Bi214</td>\n",
       "      <td>1027.5</td>\n",
       "      <td>0.000859</td>\n",
       "      <td>2.13</td>\n",
       "      <td>2.98</td>\n",
       "      <td>2204.0</td>\n",
       "      <td>Bi214</td>\n",
       "      <td>2204.1000</td>\n",
       "      <td>0.04</td>\n",
       "      <td>0.04920</td>\n",
       "      <td>0.05E-6</td>\n",
       "      <td>0.028218</td>\n",
       "      <td>0.046987</td>\n",
       "      <td>0.000966</td>\n",
       "      <td>0.000021</td>\n",
       "      <td>0.017468</td>\n",
       "    </tr>\n",
       "    <tr>\n",
       "      <th>54</th>\n",
       "      <td>2447.86</td>\n",
       "      <td>2448.35</td>\n",
       "      <td>Bi214</td>\n",
       "      <td>324.2</td>\n",
       "      <td>0.000271</td>\n",
       "      <td>2.68</td>\n",
       "      <td>0.75</td>\n",
       "      <td>2448.0</td>\n",
       "      <td>Bi214</td>\n",
       "      <td>2447.6900</td>\n",
       "      <td>0.03</td>\n",
       "      <td>0.01545</td>\n",
       "      <td>0.03E-7</td>\n",
       "      <td>0.063208</td>\n",
       "      <td>0.105248</td>\n",
       "      <td>0.001095</td>\n",
       "      <td>0.000043</td>\n",
       "      <td>0.017551</td>\n",
       "    </tr>\n",
       "  </tbody>\n",
       "</table>\n",
       "</div>"
      ],
      "text/plain": [
       "    Photopeak_Energy  Centroid Nuclide  Net_Area_Count  Peak_CPS  FWHM  \\\n",
       "0              59.54     59.83   Am241           971.3  0.000812  0.75   \n",
       "1              63.29     63.71   Th234          1283.0  0.001073  1.07   \n",
       "5              99.51     99.66   Ac228          1522.5  0.001273  1.41   \n",
       "7             129.06    129.29   Ac228          2935.4  0.002455  0.75   \n",
       "8             153.98    154.23   Ac228          1237.1  0.001035  0.41   \n",
       "13            270.25    270.53   Ac228          4413.5  0.003692  1.34   \n",
       "24            755.32    755.66   Ac228           561.6  0.000470  1.96   \n",
       "33            934.06    934.41   Bi214           804.6  0.000673  1.67   \n",
       "36           1000.99   1001.35  Pa234m           294.8  0.000247  1.38   \n",
       "38           1155.19   1155.42   Bi214           465.9  0.000390  2.25   \n",
       "39           1238.11   1238.45   Bi214          1475.8  0.001234  1.91   \n",
       "40           1280.96   1281.23   Bi214           456.6  0.000382  2.26   \n",
       "46           1620.50   1621.13   Bi212           470.5  0.000394  1.90   \n",
       "48           1661.28   1661.55   Bi214           198.0  0.000166  1.93   \n",
       "49           1729.59   1729.95   Bi214           685.0  0.000573  2.12   \n",
       "51           1847.42   1847.88   Bi214           454.5  0.000380  1.95   \n",
       "52           2118.55   2119.12   Bi214           338.8  0.000283  2.66   \n",
       "53           2204.21   2204.28   Bi214          1027.5  0.000859  2.13   \n",
       "54           2447.86   2448.35   Bi214           324.2  0.000271  2.68   \n",
       "\n",
       "    Reduced_chi2  rounded_energy    nuc  nndc_peak_energy       E_err  \\\n",
       "0           2.26            60.0  Am241           59.5409  1.0E-4       \n",
       "1           2.26            63.0  Th234           63.2900  0.02         \n",
       "5           2.79           100.0  Ac228          100.4100  0.03         \n",
       "7           2.88           129.0  Ac228          129.0650  0.97         \n",
       "8           1.77           154.0  Ac228          153.9770  0.1          \n",
       "13          2.26           270.0  Ac228          270.2450  0.002        \n",
       "24          0.37           755.0  Ac228          755.3150  0.004        \n",
       "33          2.73           934.0  Bi214          934.5000  0.5          \n",
       "36          1.94          1001.0  Pa234         1001.0300  0.1          \n",
       "38          1.17          1155.0  Bi214         1155.2100  0.008        \n",
       "39          2.87          1238.0  Bi214         1238.1220  0.01         \n",
       "40          1.53          1281.0  Bi214         1280.9760  0.012        \n",
       "46          2.49          1620.0  Bi212         1620.5000  0.1          \n",
       "48          1.64          1661.0  Bi214         1661.2740  0.017        \n",
       "49          2.61          1730.0  Bi214         1729.5950  0.015        \n",
       "51          2.16          1847.0  Bi214         1847.4330  0.017        \n",
       "52          0.91          2119.0  Bi214         2118.5130  0.03         \n",
       "53          2.98          2204.0  Bi214         2204.1000  0.04         \n",
       "54          0.75          2448.0  Bi214         2447.6900  0.03         \n",
       "\n",
       "         BR      BR_err  Centroid_err  FWHM_err  Resolution  Resolution_err  \\\n",
       "0   0.35900  0.4             0.010219  0.017016    0.012536        0.000284   \n",
       "1   0.03700         0.4      0.012686  0.021123    0.016795        0.000332   \n",
       "5   0.01260  6.0E-4          0.015346  0.025552    0.014148        0.000256   \n",
       "7   0.02430  7.0E-4          0.005879  0.009788    0.005801        0.000076   \n",
       "8   0.00722  1.6E-4          0.004950  0.008243    0.002658        0.000053   \n",
       "13  0.03460  0.16E-5         0.008566  0.014263    0.004953        0.000053   \n",
       "24  0.01000  0.1E-5          0.035122  0.058483    0.002594        0.000077   \n",
       "33  0.03094  0.16E-5         0.025002  0.041630    0.001787        0.000045   \n",
       "36  0.00842  0.09E-6         0.034132  0.056833    0.001378        0.000057   \n",
       "38  0.01634  0.4E-6          0.044267  0.073709    0.001947        0.000064   \n",
       "39  0.05830  0.03            0.021114  0.035156    0.001542        0.000028   \n",
       "40  0.01435  0.06E-6         0.044914  0.074787    0.001764        0.000058   \n",
       "46  0.01470  0.19E-5         0.037198  0.061938    0.001172        0.000038   \n",
       "48  0.01046  0.11E-7         0.058246  0.096986    0.001162        0.000058   \n",
       "49  0.02870  0.03E-6         0.034398  0.057276    0.001225        0.000033   \n",
       "51  0.02027  0.14E-6         0.038843  0.064677    0.001055        0.000035   \n",
       "52  0.01156  0.13E-7         0.061369  0.102187    0.001255        0.000048   \n",
       "53  0.04920  0.05E-6         0.028218  0.046987    0.000966        0.000021   \n",
       "54  0.01545  0.03E-7         0.063208  0.105248    0.001095        0.000043   \n",
       "\n",
       "    Peak_CPS_BR  \n",
       "0      0.002263  \n",
       "1      0.029003  \n",
       "5      0.101063  \n",
       "7      0.101041  \n",
       "8      0.143310  \n",
       "13     0.106694  \n",
       "24     0.046972  \n",
       "33     0.021751  \n",
       "36     0.029285  \n",
       "38     0.023849  \n",
       "39     0.021173  \n",
       "40     0.026614  \n",
       "46     0.026771  \n",
       "48     0.015833  \n",
       "49     0.019964  \n",
       "51     0.018753  \n",
       "52     0.024513  \n",
       "53     0.017468  \n",
       "54     0.017551  "
      ]
     },
     "execution_count": 707,
     "metadata": {},
     "output_type": "execute_result"
    }
   ],
   "source": [
    "df_new"
   ]
  },
  {
   "cell_type": "code",
   "execution_count": 720,
   "metadata": {},
   "outputs": [
    {
     "data": {
      "image/png": "[encoded data removed]",
      "text/plain": [
       "<Figure size 640x480 with 1 Axes>"
      ]
     },
     "metadata": {},
     "output_type": "display_data"
    }
   ],
   "source": [
    "#df_new = df_1.dropna(subset = ['Photopeak_Energy']) #drop unidentified peaks\n",
    "df_new = df.loc[5][df.loc[5]['Reduced_chi2']<2] #omit peaks with poor fit (reduced chi2 >3 )\n",
    "x = df_new['nndc_peak_energy']\n",
    "y = energy_to_chan(df_new['Centroid'])\n",
    "popt_peak, pcov_peak = np.polyfit(x,y,1,cov = True) #energy callibration using peak\n",
    "perr_peak = np.sqrt(np.diag(pcov_peak))\n",
    "peak_fit = np.poly1d(popt_peak)\n",
    "y_err = 1/np.sqrt(b**2-4*a*(c-x))*df_new['Centroid_err']\n",
    "#errorbars are too small to be displayed\n",
    "plt.title('Energy Calibration')\n",
    "plt.errorbar(x,y,yerr= y_err, fmt = '.',label = 'Data')\n",
    "plt.plot(x,peak_fit(x),label = 'New fit')\n",
    "plt.legend()\n",
    "plt.ylabel('Channel #')\n",
    "plt.xlabel('Reference Photopeak Energy/keV')\n",
    "plt.text(1000,1000,f'Ch = {popt_peak[0]:.4f}E+{popt_peak[1]:.4f}')\n",
    "plt.text(1,2700,'Error bars are too small to be displayed')\n",
    "plt.grid()\n",
    "#plt.savefig('energy_calibration.pdf')"
   ]
  },
  {
   "cell_type": "code",
   "execution_count": 721,
   "metadata": {},
   "outputs": [
    {
     "name": "stdout",
     "output_type": "stream",
     "text": [
      "Linear fit (energy to channel) using peak energy: E = 0.677713Ch -0.894474\n",
      "Original quadratic fit (energy to channel) : E = 8.38788e-08Ch^2 + 0.677523Ch + -0.3439140022\n",
      "Errors on new fit:\n",
      "[6.31417119e-05 8.20496547e-02]\n",
      " chi2: 8910.202346715787 \n",
      " reduced chi2: 297.00674489052625\n",
      " chi2 p-value: 0.0\n",
      " chi2: 109426.13871119541 \n",
      " reduced chi2: 3773.3151279722556\n",
      " chi2 p-value: 0.0\n"
     ]
    },
    {
     "data": {
      "text/plain": [
       "(109426.13871119541, 3773.3151279722556, 0.0)"
      ]
     },
     "execution_count": 721,
     "metadata": {},
     "output_type": "execute_result"
    }
   ],
   "source": [
    "print(f'Linear fit (energy to channel) using peak energy: E = {1/popt_peak[0]:.6f}Ch {-popt_peak[1]/popt_peak[0]:.6f}')\n",
    "print(f'Original quadratic fit (energy to channel) : E = {a:.6g}Ch^2 + {b:.6f}Ch + {c}' )\n",
    "print('Errors on new fit:')\n",
    "print(perr_peak)\n",
    "chi2_prob(peak_fit(x),y,y_err,len(x)-2)\n",
    "chi2_prob(energy_to_chan(x),y,y_err,len(x)-3)"
   ]
  },
  {
   "cell_type": "code",
   "execution_count": 709,
   "metadata": {},
   "outputs": [
    {
     "data": {
      "text/plain": [
       "Series([], Name: nndc_peak_energy, dtype: float64)"
      ]
     },
     "execution_count": 709,
     "metadata": {},
     "output_type": "execute_result"
    }
   ],
   "source": [
    "x[abs(y-energy_to_chan(x))>4]"
   ]
  },
  {
   "cell_type": "code",
   "execution_count": 722,
   "metadata": {},
   "outputs": [
    {
     "data": {
      "image/png": "[encoded data removed]",
      "text/plain": [
       "<Figure size 1600x700 with 2 Axes>"
      ]
     },
     "metadata": {},
     "output_type": "display_data"
    }
   ],
   "source": [
    "fig,ax = plt.subplots(1,2,figsize = (16,7))\n",
    "ax[0].set_title('Normalized Residual Plot for Energy Calibration')\n",
    "ax[0].plot(x,(y-peak_fit(x))/y_err,'.',label= 'New')\n",
    "ax[0].plot(x,(y-energy_to_chan(x))/y_err,'x',label = 'Lynx')\n",
    "ax[0].set_xlabel('Reference Photopeak Energy/keV')\n",
    "ax[0].set_ylabel('Normalized Residuals')\n",
    "ax[0].grid()\n",
    "ax[0].legend()\n",
    "ax[1].set_title('Residual Plot for Energy Calibration')\n",
    "ax[1].plot(x,(y-peak_fit(x)),'.',label= 'New')\n",
    "ax[1].plot(x,(y-energy_to_chan(x)),'x',label = 'Lynx')\n",
    "ax[1].set_xlabel('Reference Photopeak Energy/keV')\n",
    "ax[1].set_ylabel('Residuals')\n",
    "ax[1].grid()\n",
    "ax[1].legend()\n",
    "plt.savefig('energy_norm_resid.pdf')"
   ]
  },
  {
   "cell_type": "code",
   "execution_count": 723,
   "metadata": {},
   "outputs": [
    {
     "data": {
      "text/plain": [
       "<ErrorbarContainer object of 3 artists>"
      ]
     },
     "execution_count": 723,
     "metadata": {},
     "output_type": "execute_result"
    },
    {
     "data": {
      "image/png": "[encoded data removed]",
      "text/plain": [
       "<Figure size 640x480 with 1 Axes>"
      ]
     },
     "metadata": {},
     "output_type": "display_data"
    }
   ],
   "source": [
    "plt.errorbar(x,(y-peak_fit(x))/y,yerr= y_err/y,fmt = '.',label= 'New')"
   ]
  },
  {
   "cell_type": "code",
   "execution_count": null,
   "metadata": {},
   "outputs": [],
   "source": []
  },
  {
   "cell_type": "code",
   "execution_count": 72,
   "metadata": {},
   "outputs": [
    {
     "name": "stdout",
     "output_type": "stream",
     "text": [
      " chi2: 2781.832628648044 \n",
      " reduced chi2: 79.48093224708698\n",
      " chi2 p-value: 0.0\n"
     ]
    },
    {
     "data": {
      "text/plain": [
       "(2781.832628648044, 79.48093224708698, 0.0)"
      ]
     },
     "execution_count": 72,
     "metadata": {},
     "output_type": "execute_result"
    }
   ],
   "source": [
    "chi2_prob(y,peak_fit(x),y_err,len(x)-2)"
   ]
  },
  {
   "cell_type": "markdown",
   "metadata": {},
   "source": [
    "## Resolution Calibration\n",
    "\n",
    "Resolution = $\\frac{FWHM}{E_0}$,\n",
    "where $FWHM = \\sqrt{a \\times E_0+b}$, a"
   ]
  },
  {
   "cell_type": "code",
   "execution_count": 738,
   "metadata": {},
   "outputs": [
    {
     "data": {
      "image/png": "[encoded data removed]",
      "text/plain": [
       "<Figure size 640x480 with 1 Axes>"
      ]
     },
     "metadata": {},
     "output_type": "display_data"
    }
   ],
   "source": [
    "def res_fit(peak_energy,a,b):\n",
    "    '''This function is used for fitting resolution as a function of energy\n",
    "       res = np.sqrt(a*energy+b)/energy\n",
    "       Input:  peak_energy - reference photopeak energy\n",
    "               a,b         - parameters for the above formula\n",
    "       Output: resolution\n",
    "       '''\n",
    "    return np.sqrt(a*peak_energy+b)/peak_energy\n",
    "\n",
    "def res_fit_2(peak_energy,a,b,c):\n",
    "    '''This function is used for fitting resolution as a function of energy\n",
    "       res = np.sqrt(a*energy+b)/energy\n",
    "       Input:  peak_energy - reference photopeak energy\n",
    "               a,b         - parameters for the above formula\n",
    "       Output: resolution\n",
    "       '''\n",
    "    return np.sqrt(a*peak_energy**2+b*peak_energy+c)/peak_energy\n",
    "\n",
    "y_fwhm2 = df_new['FWHM']*df_new['FWHM']\n",
    "p_fwhm2,cov_fwhm2 = np.polyfit(x,y_fwhm2, 2,cov = True)\n",
    "\n",
    "x_res = df_new['nndc_peak_energy']\n",
    "y_res = df_new['Resolution']\n",
    "y_res_err = df_new['Resolution_err']\n",
    "res_par, res_cov = curve_fit(res_fit_2,x_res,y_res, p0 = [0.00001,0.00055, 1.8])\n",
    "res_fit_err = np.sqrt(np.diag(res_cov))\n",
    "x_plot = np.linspace(min(x_res),max(x_res),500)\n",
    "\n",
    "plt.figure()\n",
    "plt.title('Resolution Calibration')\n",
    "plt.errorbar(x_res,y_res,yerr = y_res_err,fmt = 'x',label = 'data')\n",
    "plt.plot(x_plot,res_fit_2(x_plot,*res_par), label = 'fitted curve')\n",
    "plt.ylabel('Resolution')\n",
    "plt.xlabel('Reference Photopeak Energy/keV')\n",
    "plt.legend()\n",
    "plt.text(1600,0.0055,f'fitting parameters:')\n",
    "plt.text(1600,0.005,f'a = {res_par[0]:.3g}' + r'$\\pm$'+ f'{res_fit_err[0]:.3g}')\n",
    "plt.text(1600,0.0045,f'b ={res_par[1]:.3g}' + r'$\\pm$'+ f'{res_fit_err[1]:.3g}')\n",
    "plt.text(1600,0.004,f'c ={res_par[2]:.3g}' + r'$\\pm$'+ f'{res_fit_err[2]:.3g}')\n",
    "plt.text(1600,0.0025,r'$R = \\frac{\\sqrt{a * E^2+b*E+c}}{E}$')\n",
    "plt.grid()\n",
    "#plt.savefig('res_calibration.pdf')"
   ]
  },
  {
   "cell_type": "code",
   "execution_count": 743,
   "metadata": {},
   "outputs": [
    {
     "data": {
      "image/png": "[encoded data removed]",
      "text/plain": [
       "<Figure size 640x480 with 1 Axes>"
      ]
     },
     "metadata": {},
     "output_type": "display_data"
    }
   ],
   "source": [
    "fwhm2 = np.poly1d(p_fwhm2)\n",
    "fwhm2_err = 2*df_new['FWHM']*df_new['FWHM_err']\n",
    "p_fwhm2_err = np.sqrt(np.diag(cov_fwhm2))\n",
    "plt.figure()\n",
    "plt.title('FWHM Calibration')\n",
    "plt.errorbar(x,y_fwhm2,yerr = fwhm2_err,fmt = 'x',label = 'data')\n",
    "plt.plot(x_plot,fwhm2(x_plot), label = 'fitted curve')\n",
    "plt.ylabel(r'FWHM$^2$')\n",
    "plt.xlabel('Reference Photopeak Energy/keV')\n",
    "plt.legend()\n",
    "plt.text(1800,3,f'fitting parameters:')\n",
    "plt.text(1600,2.5,f'a = {p_fwhm2[0]:.3g}' + r'$\\pm$'+ f'{p_fwhm2_err[0]:.3g}')\n",
    "plt.text(1600,2,f'b ={p_fwhm2[1]:.3g}' + r'$\\pm$'+ f'{p_fwhm2_err[1]:.3g}')\n",
    "plt.text(1600,1.5,f'c ={p_fwhm2[2]:.3g}' + r'$\\pm$'+ f'{p_fwhm2_err[2]:.3g}')\n",
    "plt.text(1600,1,r'$FWHM^2 = a * E^2+b*E+c$')\n",
    "plt.grid()"
   ]
  },
  {
   "cell_type": "code",
   "execution_count": 739,
   "metadata": {},
   "outputs": [
    {
     "name": "stdout",
     "output_type": "stream",
     "text": [
      "polyfit:\n",
      "[3.33063251e-07 1.48482427e-03 7.97275435e-01]\n"
     ]
    },
    {
     "ename": "NameError",
     "evalue": "name 'p_fwhm2_err' is not defined",
     "output_type": "error",
     "traceback": [
      "\u001b[0;31m---------------------------------------------------------------------------\u001b[0m",
      "\u001b[0;31mNameError\u001b[0m                                 Traceback (most recent call last)",
      "\u001b[1;32m/Users/chilaitang/Library/Mobile Documents/com~apple~CloudDocs/UCL PHY/Lab Y3/HPGe_lab_y3/spectal_analysis.ipynb Cell 28\u001b[0m in \u001b[0;36m<cell line: 4>\u001b[0;34m()\u001b[0m\n\u001b[1;32m      <a href='vscode-notebook-cell:/Users/chilaitang/Library/Mobile%20Documents/com~apple~CloudDocs/UCL%20PHY/Lab%20Y3/HPGe_lab_y3/spectal_analysis.ipynb#ch0000026?line=1'>2</a>\u001b[0m \u001b[39mprint\u001b[39m(\u001b[39m'\u001b[39m\u001b[39mpolyfit:\u001b[39m\u001b[39m'\u001b[39m)\n\u001b[1;32m      <a href='vscode-notebook-cell:/Users/chilaitang/Library/Mobile%20Documents/com~apple~CloudDocs/UCL%20PHY/Lab%20Y3/HPGe_lab_y3/spectal_analysis.ipynb#ch0000026?line=2'>3</a>\u001b[0m \u001b[39mprint\u001b[39m(p_fwhm2)\n\u001b[0;32m----> <a href='vscode-notebook-cell:/Users/chilaitang/Library/Mobile%20Documents/com~apple~CloudDocs/UCL%20PHY/Lab%20Y3/HPGe_lab_y3/spectal_analysis.ipynb#ch0000026?line=3'>4</a>\u001b[0m \u001b[39mprint\u001b[39m(p_fwhm2_err)\n\u001b[1;32m      <a href='vscode-notebook-cell:/Users/chilaitang/Library/Mobile%20Documents/com~apple~CloudDocs/UCL%20PHY/Lab%20Y3/HPGe_lab_y3/spectal_analysis.ipynb#ch0000026?line=4'>5</a>\u001b[0m \u001b[39mprint\u001b[39m(\u001b[39m'\u001b[39m\u001b[39mcurvefit:\u001b[39m\u001b[39m'\u001b[39m)\n\u001b[1;32m      <a href='vscode-notebook-cell:/Users/chilaitang/Library/Mobile%20Documents/com~apple~CloudDocs/UCL%20PHY/Lab%20Y3/HPGe_lab_y3/spectal_analysis.ipynb#ch0000026?line=5'>6</a>\u001b[0m \u001b[39mprint\u001b[39m(res_par)\n",
      "\u001b[0;31mNameError\u001b[0m: name 'p_fwhm2_err' is not defined"
     ]
    }
   ],
   "source": [
    "fwhm2 = np.poly1d(p_fwhm2)\n",
    "print('polyfit:')\n",
    "print(p_fwhm2)\n",
    "print(p_fwhm2_err)\n",
    "print('curvefit:')\n",
    "print(res_par)\n",
    "print(res_fit_err)\n",
    "chi2_prob(fwhm2(x),y_fwhm2,2*df_new['FWHM']*df_new['FWHM_err'],len(x)-3)\n",
    "chi2_prob(res_fit_2(x,*res_par),y_res,y_res_err,len(x)-3)"
   ]
  },
  {
   "cell_type": "code",
   "execution_count": 185,
   "metadata": {},
   "outputs": [
    {
     "data": {
      "image/png": "[encoded data removed]",
      "text/plain": [
       "<Figure size 640x480 with 1 Axes>"
      ]
     },
     "metadata": {},
     "output_type": "display_data"
    }
   ],
   "source": [
    "plt.figure()\n",
    "plt.title('Normalized Residual Plot for Resolution Calibration')\n",
    "plt.plot(x_res,(y_res-res_fit_2(x_res,*res_par))/y_err_res,'.')\n",
    "plt.xlabel('Reference Photopeak Energy/keV')\n",
    "plt.ylabel('Normalized Residuals')\n",
    "plt.grid()\n",
    "plt.axhline(1,linestyle = '--')\n",
    "plt.axhline(-1,linestyle = '--')\n",
    "plt.text(-150, 1, '1', ha='right', va='bottom')\n",
    "plt.text(-150, -1, '-1', ha='right', va='top')\n",
    "plt.savefig('res_norm_resid.pdf')"
   ]
  },
  {
   "cell_type": "code",
   "execution_count": 173,
   "metadata": {},
   "outputs": [
    {
     "name": "stdout",
     "output_type": "stream",
     "text": [
      " chi2: 3152.7349824756625 \n",
      " reduced chi2: 90.0781423564475\n",
      " chi2 p-value: 0.0\n"
     ]
    },
    {
     "data": {
      "text/plain": [
       "(3152.7349824756625, 90.0781423564475, 0.0)"
      ]
     },
     "execution_count": 173,
     "metadata": {},
     "output_type": "execute_result"
    }
   ],
   "source": [
    "chi2_prob(y_res,res_fit_2(x_res,*res_par),y_err_res,len(x_res)-2)"
   ]
  },
  {
   "cell_type": "code",
   "execution_count": 76,
   "metadata": {},
   "outputs": [
    {
     "data": {
      "text/plain": [
       "array(['Th234', 'Ac228', 'Ra226', 'Pb214', 'Tl208', 'Bi214', 'Bi212',\n",
       "       'Pa234m', 'Tl208 (D.E.)', 'Tl208 (S.E.)'], dtype=object)"
      ]
     },
     "execution_count": 76,
     "metadata": {},
     "output_type": "execute_result"
    }
   ],
   "source": [
    "df_new['Nuclide'].unique()"
   ]
  },
  {
   "cell_type": "markdown",
   "metadata": {},
   "source": [
    "### Plots of counts / branching ratio of nuclides at different energies"
   ]
  },
  {
   "cell_type": "code",
   "execution_count": 77,
   "metadata": {},
   "outputs": [
    {
     "data": {
      "text/plain": [
       "22   NaN\n",
       "44   NaN\n",
       "Name: BR, dtype: float64"
      ]
     },
     "execution_count": 77,
     "metadata": {},
     "output_type": "execute_result"
    }
   ],
   "source": [
    "df = df_new\n",
    "df = df[df['Nuclide']=='Bi212']\n",
    "#plt.plot(df['Photopeak_Energy'],df['Peak_CPS_BR'])\n",
    "df['BR']"
   ]
  },
  {
   "cell_type": "code",
   "execution_count": 92,
   "metadata": {},
   "outputs": [
    {
     "data": {
      "text/html": [
       "<div>\n",
       "<style scoped>\n",
       "    .dataframe tbody tr th:only-of-type {\n",
       "        vertical-align: middle;\n",
       "    }\n",
       "\n",
       "    .dataframe tbody tr th {\n",
       "        vertical-align: top;\n",
       "    }\n",
       "\n",
       "    .dataframe thead th {\n",
       "        text-align: right;\n",
       "    }\n",
       "</style>\n",
       "<table border=\"1\" class=\"dataframe\">\n",
       "  <thead>\n",
       "    <tr style=\"text-align: right;\">\n",
       "      <th></th>\n",
       "      <th>Centroid</th>\n",
       "      <th>Photopeak_Energy</th>\n",
       "    </tr>\n",
       "  </thead>\n",
       "  <tbody>\n",
       "    <tr>\n",
       "      <th>25</th>\n",
       "      <td>727.40</td>\n",
       "      <td>727.33</td>\n",
       "    </tr>\n",
       "    <tr>\n",
       "      <th>50</th>\n",
       "      <td>1620.76</td>\n",
       "      <td>1620.50</td>\n",
       "    </tr>\n",
       "  </tbody>\n",
       "</table>\n",
       "</div>"
      ],
      "text/plain": [
       "    Centroid  Photopeak_Energy\n",
       "25    727.40            727.33\n",
       "50   1620.76           1620.50"
      ]
     },
     "execution_count": 92,
     "metadata": {},
     "output_type": "execute_result"
    }
   ],
   "source": [
    "df_2[df_2['Nuclide']=='Bi212'][['Centroid','Photopeak_Energy']]"
   ]
  },
  {
   "cell_type": "code",
   "execution_count": 78,
   "metadata": {},
   "outputs": [
    {
     "data": {
      "image/png": "[encoded data removed]",
      "text/plain": [
       "<Figure size 1700x400 with 4 Axes>"
      ]
     },
     "metadata": {},
     "output_type": "display_data"
    }
   ],
   "source": [
    "U238_chain = ['Th234','Pa234m','Ra226','Pb214','Bi214']\n",
    "Th232_chain = ['Ac228','Bi212','Tl208']\n",
    "def rel_activity(df0,chain):\n",
    "        fig,ax = plt.subplots(1,4,figsize = (17,4))\n",
    "        i = 0\n",
    "        for nuclide in chain:\n",
    "                df = df0[df0['Nuclide']==nuclide].dropna(subset = 'Peak_CPS_BR')\n",
    "                ax[i].plot(df['Photopeak_Energy'],df['Peak_CPS_BR'],'.')\n",
    "                i +=1\n",
    "        plt.show()\n",
    "        \n",
    "rel_activity(df_1,Th232_chain)"
   ]
  },
  {
   "cell_type": "code",
   "execution_count": 96,
   "metadata": {},
   "outputs": [
    {
     "data": {
      "image/png": "[encoded data removed]",
      "text/plain": [
       "<Figure size 640x480 with 1 Axes>"
      ]
     },
     "metadata": {},
     "output_type": "display_data"
    }
   ],
   "source": [
    "plt.figure()\n",
    "i = 0\n",
    "\n",
    "for nuclide in Th232_chain:\n",
    "    df = df_1[df_1['Nuclide']==nuclide].dropna(subset = 'Peak_CPS_BR')\n",
    "    plt.plot(df['Photopeak_Energy'],df['Peak_CPS_BR'],'.',label = nuclide )\n",
    "    i +=1\n",
    "    plt.legend()\n",
    "for nuclide in Th232_chain:\n",
    "    df = df_2[df_2['Nuclide']==nuclide].dropna(subset = 'Peak_CPS_BR')\n",
    "    plt.plot(df['Photopeak_Energy'],df['Peak_CPS_BR'],'.',label = nuclide )\n",
    "    i +=1\n",
    "    plt.legend()\n",
    "    \n"
   ]
  },
  {
   "cell_type": "code",
   "execution_count": 156,
   "metadata": {},
   "outputs": [
    {
     "data": {
      "text/plain": [
       "1     56.12\n",
       "32     1.97\n",
       "42     1.23\n",
       "Name: Reduced, dtype: float64"
      ]
     },
     "execution_count": 156,
     "metadata": {},
     "output_type": "execute_result"
    }
   ],
   "source": [
    "diff = df_1['Centroid'][1:].to_numpy()-df_1['Centroid'][:-1].to_numpy()\n",
    "df_1[:-1][diff<3*df_1['FWHM'][:-1].to_numpy()]['Reduced']"
   ]
  },
  {
   "cell_type": "code",
   "execution_count": 177,
   "metadata": {},
   "outputs": [
    {
     "data": {
      "text/plain": [
       "2381.7754939495408"
      ]
     },
     "execution_count": 177,
     "metadata": {},
     "output_type": "execute_result"
    }
   ],
   "source": [
    "def compton_edge(energy):\n",
    "    ratio = energy/511 #energy to electron rest energy  ratio\n",
    "    return energy*(2*ratio/(2*ratio+1))\n",
    "compton_edge(1460.75)\n",
    "compton_edge(2614.53)"
   ]
  },
  {
   "cell_type": "code",
   "execution_count": 202,
   "metadata": {},
   "outputs": [],
   "source": [
    "import requests\n",
    "from bs4 import BeautifulSoup"
   ]
  },
  {
   "cell_type": "code",
   "execution_count": null,
   "metadata": {},
   "outputs": [],
   "source": []
  },
  {
   "cell_type": "markdown",
   "metadata": {},
   "source": [
    "Intensity / 100 = Branching ratio (BR)"
   ]
  },
  {
   "cell_type": "code",
   "execution_count": 353,
   "metadata": {},
   "outputs": [
    {
     "data": {
      "text/html": [
       "<div>\n",
       "<style scoped>\n",
       "    .dataframe tbody tr th:only-of-type {\n",
       "        vertical-align: middle;\n",
       "    }\n",
       "\n",
       "    .dataframe tbody tr th {\n",
       "        vertical-align: top;\n",
       "    }\n",
       "\n",
       "    .dataframe thead th {\n",
       "        text-align: right;\n",
       "    }\n",
       "</style>\n",
       "<table border=\"1\" class=\"dataframe\">\n",
       "  <thead>\n",
       "    <tr style=\"text-align: right;\">\n",
       "      <th></th>\n",
       "      <th>Centroid</th>\n",
       "      <th>Net_Area_Count</th>\n",
       "      <th>Net_Area</th>\n",
       "      <th>Peak_CPS</th>\n",
       "      <th>FWHM</th>\n",
       "      <th>FWHM</th>\n",
       "      <th>Reduced</th>\n",
       "      <th>ROI_Total</th>\n",
       "      <th>ROI</th>\n",
       "      <th>File</th>\n",
       "      <th>...</th>\n",
       "      <th>Color</th>\n",
       "      <th>User_Label</th>\n",
       "      <th>Continuum_Type</th>\n",
       "      <th>BR</th>\n",
       "      <th>Dose</th>\n",
       "      <th>Centroid_err</th>\n",
       "      <th>FWHM_err</th>\n",
       "      <th>Resolution</th>\n",
       "      <th>Resolution_err</th>\n",
       "      <th>Peak_CPS_BR</th>\n",
       "    </tr>\n",
       "  </thead>\n",
       "  <tbody>\n",
       "    <tr>\n",
       "      <th>24</th>\n",
       "      <td>786.45</td>\n",
       "      <td>315.1</td>\n",
       "      <td>42.8</td>\n",
       "      <td>0.000535</td>\n",
       "      <td>1.60</td>\n",
       "      <td>0.20%</td>\n",
       "      <td>2.12</td>\n",
       "      <td>8952.3</td>\n",
       "      <td>25</td>\n",
       "      <td></td>\n",
       "      <td>...</td>\n",
       "      <td>#FF6633</td>\n",
       "      <td>NaN</td>\n",
       "      <td>Linear</td>\n",
       "      <td>NaN</td>\n",
       "      <td>NaN</td>\n",
       "      <td>0.038277</td>\n",
       "      <td>0.063735</td>\n",
       "      <td>0.002034</td>\n",
       "      <td>0.000081</td>\n",
       "      <td>NaN</td>\n",
       "    </tr>\n",
       "    <tr>\n",
       "      <th>34</th>\n",
       "      <td>1002.13</td>\n",
       "      <td>224.1</td>\n",
       "      <td>42.2</td>\n",
       "      <td>0.000380</td>\n",
       "      <td>1.75</td>\n",
       "      <td>0.17%</td>\n",
       "      <td>0.41</td>\n",
       "      <td>5574.0</td>\n",
       "      <td>35</td>\n",
       "      <td></td>\n",
       "      <td>...</td>\n",
       "      <td>#FF6633</td>\n",
       "      <td>NaN</td>\n",
       "      <td>Linear</td>\n",
       "      <td>NaN</td>\n",
       "      <td>NaN</td>\n",
       "      <td>0.049643</td>\n",
       "      <td>0.082661</td>\n",
       "      <td>0.001746</td>\n",
       "      <td>0.000082</td>\n",
       "      <td>NaN</td>\n",
       "    </tr>\n",
       "  </tbody>\n",
       "</table>\n",
       "<p>2 rows × 27 columns</p>\n",
       "</div>"
      ],
      "text/plain": [
       "    Centroid  Net_Area_Count     Net_Area  Peak_CPS  FWHM     FWHM  Reduced  \\\n",
       "24    786.45           315.1         42.8  0.000535  1.60    0.20%     2.12   \n",
       "34   1002.13           224.1         42.2  0.000380  1.75    0.17%     0.41   \n",
       "\n",
       "     ROI_Total  ROI  File  ...    Color   User_Label   Continuum_Type  BR  \\\n",
       "24      8952.3   25        ...  #FF6633          NaN           Linear NaN   \n",
       "34      5574.0   35        ...  #FF6633          NaN           Linear NaN   \n",
       "\n",
       "    Dose  Centroid_err  FWHM_err Resolution Resolution_err Peak_CPS_BR  \n",
       "24   NaN      0.038277  0.063735   0.002034       0.000081         NaN  \n",
       "34   NaN      0.049643  0.082661   0.001746       0.000082         NaN  \n",
       "\n",
       "[2 rows x 27 columns]"
      ]
     },
     "execution_count": 353,
     "metadata": {},
     "output_type": "execute_result"
    }
   ],
   "source": [
    "df_1[df_1['Nuclide'].str.contains('Pa234').fillna(False)]"
   ]
  },
  {
   "cell_type": "code",
   "execution_count": 349,
   "metadata": {},
   "outputs": [
    {
     "data": {
      "text/plain": [
       "0     [Th234]\n",
       "1     [Pb212]\n",
       "2     [Pb212]\n",
       "3     [Th234]\n",
       "4     [Ac228]\n",
       "5     [Ac228]\n",
       "6     [Ra226]\n",
       "7     [Ac228]\n",
       "8     [Pb212]\n",
       "9     [Pb214]\n",
       "12    [Pb212]\n",
       "14    [Ac228]\n",
       "15    [Pb214]\n",
       "17    [Ac228]\n",
       "19    [Tl208]\n",
       "20    [Bi214]\n",
       "21    [Cs137]\n",
       "22    [Bi212]\n",
       "23    [Bi214]\n",
       "24    [Pa234]\n",
       "25    [Ac228]\n",
       "26    [Ac228]\n",
       "27    [Ac228]\n",
       "28    [Tl208]\n",
       "29    [Ac228]\n",
       "30    [Bi214]\n",
       "32    [Ac228]\n",
       "33    [Ac228]\n",
       "34    [Pa234]\n",
       "35    [Bi214]\n",
       "36    [Bi214]\n",
       "37    [Bi214]\n",
       "38    [Bi214]\n",
       "39    [Bi214]\n",
       "40      [K40]\n",
       "41    [Bi214]\n",
       "42    [Ac228]\n",
       "43    [Tl208]\n",
       "44    [Bi212]\n",
       "45    [Ac228]\n",
       "46    [Bi214]\n",
       "47    [Bi214]\n",
       "48    [Bi214]\n",
       "49    [Bi214]\n",
       "50    [Tl208]\n",
       "51    [Bi214]\n",
       "52    [Bi214]\n",
       "53    [Bi214]\n",
       "54    [Tl208]\n",
       "Name: Nuclide, dtype: object"
      ]
     },
     "execution_count": 349,
     "metadata": {},
     "output_type": "execute_result"
    }
   ],
   "source": [
    "df_1['Nuclide'].dropna().str.findall('\\w+\\d+')"
   ]
  },
  {
   "cell_type": "code",
   "execution_count": 345,
   "metadata": {},
   "outputs": [
    {
     "data": {
      "text/plain": [
       "['Bi212',\n",
       " 'K40',\n",
       " 'Pb214',\n",
       " 'Pa234',\n",
       " 'Tl208',\n",
       " 'Bi214',\n",
       " 'Ac228',\n",
       " 'Th234',\n",
       " 'Pb212',\n",
       " 'Cs137',\n",
       " 'Ra226']"
      ]
     },
     "execution_count": 345,
     "metadata": {},
     "output_type": "execute_result"
    }
   ],
   "source": [
    "nuc = df_1['Nuclide'].dropna()\n",
    "nuc = list(set([i[0] for i in nuc.str.findall('\\w+\\d+')])) #unique nuclide names\n",
    "nuc"
   ]
  },
  {
   "cell_type": "code",
   "execution_count": 362,
   "metadata": {},
   "outputs": [
    {
     "data": {
      "text/plain": [
       "A                       int64\n",
       "Element                object\n",
       "Z                       int64\n",
       "N                       int64\n",
       "Par. Elevel           float64\n",
       "Unc.                   object\n",
       "JPi                    object\n",
       "Dec Mode               object\n",
       "T1/2 (txt)             object\n",
       "T1/2 (num)              int64\n",
       "Daughter               object\n",
       "Radiation              object\n",
       "Rad subtype            object\n",
       "Photopeak_Energy      float64\n",
       "E_err                  object\n",
       "EP Ene.                object\n",
       "Unc       .1           object\n",
       "Rad Int.              float64\n",
       "BR_err                 object\n",
       "Dose                  float64\n",
       "Unc       .3           object\n",
       "BR                    float64\n",
       "dtype: object"
      ]
     },
     "execution_count": 362,
     "metadata": {},
     "output_type": "execute_result"
    }
   ],
   "source": [
    "nndc_df.dtypes"
   ]
  },
  {
   "cell_type": "code",
   "execution_count": 332,
   "metadata": {},
   "outputs": [
    {
     "data": {
      "text/html": [
       "<div>\n",
       "<style scoped>\n",
       "    .dataframe tbody tr th:only-of-type {\n",
       "        vertical-align: middle;\n",
       "    }\n",
       "\n",
       "    .dataframe tbody tr th {\n",
       "        vertical-align: top;\n",
       "    }\n",
       "\n",
       "    .dataframe thead th {\n",
       "        text-align: right;\n",
       "    }\n",
       "</style>\n",
       "<table border=\"1\" class=\"dataframe\">\n",
       "  <thead>\n",
       "    <tr style=\"text-align: right;\">\n",
       "      <th></th>\n",
       "      <th>Centroid</th>\n",
       "      <th>Net_Area_Count</th>\n",
       "      <th>Net_Area</th>\n",
       "      <th>Peak_CPS</th>\n",
       "      <th>FWHM</th>\n",
       "      <th>FWHM</th>\n",
       "      <th>Reduced</th>\n",
       "      <th>ROI_Total</th>\n",
       "      <th>ROI</th>\n",
       "      <th>File</th>\n",
       "      <th>...</th>\n",
       "      <th>BR_x</th>\n",
       "      <th>Dose</th>\n",
       "      <th>Centroid_err</th>\n",
       "      <th>FWHM_err</th>\n",
       "      <th>Resolution</th>\n",
       "      <th>Resolution_err</th>\n",
       "      <th>Peak_CPS_BR</th>\n",
       "      <th>E_err</th>\n",
       "      <th>BR_y</th>\n",
       "      <th>BR_err</th>\n",
       "    </tr>\n",
       "  </thead>\n",
       "  <tbody>\n",
       "    <tr>\n",
       "      <th>0</th>\n",
       "      <td>728.00</td>\n",
       "      <td>1449.7</td>\n",
       "      <td>63.5</td>\n",
       "      <td>0.002460</td>\n",
       "      <td>1.38</td>\n",
       "      <td>0.19%</td>\n",
       "      <td>0.61</td>\n",
       "      <td>7218.9</td>\n",
       "      <td>23</td>\n",
       "      <td></td>\n",
       "      <td>...</td>\n",
       "      <td>NaN</td>\n",
       "      <td>NaN</td>\n",
       "      <td>0.015392</td>\n",
       "      <td>0.025629</td>\n",
       "      <td>0.001896</td>\n",
       "      <td>0.000035</td>\n",
       "      <td>NaN</td>\n",
       "      <td>0.009</td>\n",
       "      <td>0.0667</td>\n",
       "      <td>0.09</td>\n",
       "    </tr>\n",
       "    <tr>\n",
       "      <th>1</th>\n",
       "      <td>1621.52</td>\n",
       "      <td>229.0</td>\n",
       "      <td>29.7</td>\n",
       "      <td>0.000389</td>\n",
       "      <td>2.14</td>\n",
       "      <td>0.13%</td>\n",
       "      <td>1.08</td>\n",
       "      <td>1532.8</td>\n",
       "      <td>45</td>\n",
       "      <td></td>\n",
       "      <td>...</td>\n",
       "      <td>NaN</td>\n",
       "      <td>NaN</td>\n",
       "      <td>0.060053</td>\n",
       "      <td>0.099996</td>\n",
       "      <td>0.001320</td>\n",
       "      <td>0.000062</td>\n",
       "      <td>NaN</td>\n",
       "      <td>0.1</td>\n",
       "      <td>0.0147</td>\n",
       "      <td>0.05E-6</td>\n",
       "    </tr>\n",
       "  </tbody>\n",
       "</table>\n",
       "<p>2 rows × 30 columns</p>\n",
       "</div>"
      ],
      "text/plain": [
       "   Centroid  Net_Area_Count     Net_Area  Peak_CPS  FWHM     FWHM  Reduced  \\\n",
       "0    728.00          1449.7         63.5  0.002460  1.38    0.19%     0.61   \n",
       "1   1621.52           229.0         29.7  0.000389  2.14    0.13%     1.08   \n",
       "\n",
       "    ROI_Total  ROI  File  ...  BR_x  Dose  Centroid_err  FWHM_err  Resolution  \\\n",
       "0      7218.9   23        ...   NaN   NaN      0.015392  0.025629    0.001896   \n",
       "1      1532.8   45        ...   NaN   NaN      0.060053  0.099996    0.001320   \n",
       "\n",
       "   Resolution_err  Peak_CPS_BR       E_err    BR_y      BR_err  \n",
       "0        0.000035          NaN  0.009       0.0667  0.09        \n",
       "1        0.000062          NaN  0.1         0.0147  0.05E-6     \n",
       "\n",
       "[2 rows x 30 columns]"
      ]
     },
     "execution_count": 332,
     "metadata": {},
     "output_type": "execute_result"
    }
   ],
   "source": [
    "#rename nndc columns\n",
    "nndc_col = {'Rad Ene.  ' : 'Photopeak_Energy','Unc       .2':'BR_err','Unc       ':'E_err'} \n",
    "nndc_df.rename(columns = nndc_col,inplace=True)\n",
    "#adding branching ratios of gamma rad. from electron capture and other pathways of the same energy\n",
    "nndc_df['BR'] = nndc_df.groupby(['Photopeak_Energy'])['Rad Int.  '].transform('sum')/100 #BR = intensity/100\n",
    "nndc_df['BR_err'] = nndc_df['BR_err']/100\n",
    "pd.merge(df_1[df_1['Nuclide'] == 'Bi212'],nndc_df[['Photopeak_Energy','E_err','BR','BR_err']], on = 'Photopeak_Energy',how = 'left').drop_duplicates(subset = 'Photopeak_Energy')"
   ]
  },
  {
   "cell_type": "code",
   "execution_count": 322,
   "metadata": {},
   "outputs": [
    {
     "data": {
      "text/plain": [
       "152"
      ]
     },
     "execution_count": 322,
     "metadata": {},
     "output_type": "execute_result"
    }
   ],
   "source": [
    "len(nndc_df)"
   ]
  },
  {
   "cell_type": "code",
   "execution_count": 281,
   "metadata": {},
   "outputs": [
    {
     "data": {
      "text/plain": [
       "0       62.86\n",
       "1       74.82\n",
       "2       77.11\n",
       "3       92.80\n",
       "4      129.06\n",
       "5      153.98\n",
       "6      186.21\n",
       "7      209.25\n",
       "8      238.63\n",
       "9      242.00\n",
       "10        NaN\n",
       "11        NaN\n",
       "12     300.09\n",
       "13        NaN\n",
       "14     338.32\n",
       "15     351.93\n",
       "16        NaN\n",
       "17     463.00\n",
       "18        NaN\n",
       "19     583.19\n",
       "20     609.31\n",
       "21     661.66\n",
       "22     727.33\n",
       "23     768.36\n",
       "24     786.25\n",
       "25     794.95\n",
       "26     835.71\n",
       "27     840.38\n",
       "28     860.56\n",
       "29     911.20\n",
       "30     934.06\n",
       "31        NaN\n",
       "32     964.77\n",
       "33     968.97\n",
       "34    1000.99\n",
       "35    1120.29\n",
       "36    1238.11\n",
       "37    1280.96\n",
       "38    1377.67\n",
       "39    1407.98\n",
       "40    1460.75\n",
       "41    1509.23\n",
       "42    1588.20\n",
       "43    1592.54\n",
       "44    1620.50\n",
       "45    1630.63\n",
       "46    1661.28\n",
       "47    1729.59\n",
       "48    1764.49\n",
       "49    1847.42\n",
       "50    2103.53\n",
       "51    2118.55\n",
       "52    2204.21\n",
       "53    2447.86\n",
       "54    2614.53\n",
       "Name: Photopeak_Energy, dtype: float64"
      ]
     },
     "execution_count": 281,
     "metadata": {},
     "output_type": "execute_result"
    }
   ],
   "source": [
    "df_1['Photopeak_Energy']"
   ]
  },
  {
   "cell_type": "code",
   "execution_count": 310,
   "metadata": {},
   "outputs": [
    {
     "data": {
      "text/html": [
       "<div>\n",
       "<style scoped>\n",
       "    .dataframe tbody tr th:only-of-type {\n",
       "        vertical-align: middle;\n",
       "    }\n",
       "\n",
       "    .dataframe tbody tr th {\n",
       "        vertical-align: top;\n",
       "    }\n",
       "\n",
       "    .dataframe thead th {\n",
       "        text-align: right;\n",
       "    }\n",
       "</style>\n",
       "<table border=\"1\" class=\"dataframe\">\n",
       "  <thead>\n",
       "    <tr style=\"text-align: right;\">\n",
       "      <th></th>\n",
       "      <th>Centroid</th>\n",
       "      <th>Net_Area_Count</th>\n",
       "      <th>Net_Area</th>\n",
       "      <th>Peak_CPS</th>\n",
       "      <th>FWHM</th>\n",
       "      <th>FWHM</th>\n",
       "      <th>Reduced</th>\n",
       "      <th>ROI_Total</th>\n",
       "      <th>ROI</th>\n",
       "      <th>File</th>\n",
       "      <th>...</th>\n",
       "      <th>User_Label</th>\n",
       "      <th>Continuum_Type</th>\n",
       "      <th>BR</th>\n",
       "      <th>Dose</th>\n",
       "      <th>Centroid_err</th>\n",
       "      <th>FWHM_err</th>\n",
       "      <th>Resolution</th>\n",
       "      <th>Resolution_err</th>\n",
       "      <th>Peak_CPS_BR</th>\n",
       "      <th>Rad Int.</th>\n",
       "    </tr>\n",
       "  </thead>\n",
       "  <tbody>\n",
       "    <tr>\n",
       "      <th>0</th>\n",
       "      <td>728.00</td>\n",
       "      <td>1449.7</td>\n",
       "      <td>63.5</td>\n",
       "      <td>0.002460</td>\n",
       "      <td>1.38</td>\n",
       "      <td>0.19%</td>\n",
       "      <td>0.61</td>\n",
       "      <td>7218.9</td>\n",
       "      <td>23</td>\n",
       "      <td></td>\n",
       "      <td>...</td>\n",
       "      <td>NaN</td>\n",
       "      <td>Linear</td>\n",
       "      <td>NaN</td>\n",
       "      <td>NaN</td>\n",
       "      <td>0.015392</td>\n",
       "      <td>0.025629</td>\n",
       "      <td>0.001896</td>\n",
       "      <td>0.000035</td>\n",
       "      <td>NaN</td>\n",
       "      <td>6.67</td>\n",
       "    </tr>\n",
       "    <tr>\n",
       "      <th>1</th>\n",
       "      <td>1621.52</td>\n",
       "      <td>229.0</td>\n",
       "      <td>29.7</td>\n",
       "      <td>0.000389</td>\n",
       "      <td>2.14</td>\n",
       "      <td>0.13%</td>\n",
       "      <td>1.08</td>\n",
       "      <td>1532.8</td>\n",
       "      <td>45</td>\n",
       "      <td></td>\n",
       "      <td>...</td>\n",
       "      <td>NaN</td>\n",
       "      <td>Linear</td>\n",
       "      <td>NaN</td>\n",
       "      <td>NaN</td>\n",
       "      <td>0.060053</td>\n",
       "      <td>0.099996</td>\n",
       "      <td>0.001320</td>\n",
       "      <td>0.000062</td>\n",
       "      <td>NaN</td>\n",
       "      <td>1.47</td>\n",
       "    </tr>\n",
       "  </tbody>\n",
       "</table>\n",
       "<p>2 rows × 28 columns</p>\n",
       "</div>"
      ],
      "text/plain": [
       "   Centroid  Net_Area_Count     Net_Area  Peak_CPS  FWHM     FWHM  Reduced  \\\n",
       "0    728.00          1449.7         63.5  0.002460  1.38    0.19%     0.61   \n",
       "1   1621.52           229.0         29.7  0.000389  2.14    0.13%     1.08   \n",
       "\n",
       "    ROI_Total  ROI  File  ...   User_Label   Continuum_Type  BR Dose  \\\n",
       "0      7218.9   23        ...          NaN           Linear NaN  NaN   \n",
       "1      1532.8   45        ...          NaN           Linear NaN  NaN   \n",
       "\n",
       "   Centroid_err  FWHM_err  Resolution Resolution_err Peak_CPS_BR Rad Int.    \n",
       "0      0.015392  0.025629    0.001896       0.000035         NaN       6.67  \n",
       "1      0.060053  0.099996    0.001320       0.000062         NaN       1.47  \n",
       "\n",
       "[2 rows x 28 columns]"
      ]
     },
     "execution_count": 310,
     "metadata": {},
     "output_type": "execute_result"
    }
   ],
   "source": [
    "pd.merge(df_1[df_1['Nuclide'] == 'Bi212'],nndc_df[['Photopeak_Energy','Rad Int.  ']], on = 'Photopeak_Energy',how = 'left')"
   ]
  },
  {
   "cell_type": "code",
   "execution_count": 297,
   "metadata": {},
   "outputs": [
    {
     "data": {
      "text/html": [
       "<div>\n",
       "<style scoped>\n",
       "    .dataframe tbody tr th:only-of-type {\n",
       "        vertical-align: middle;\n",
       "    }\n",
       "\n",
       "    .dataframe tbody tr th {\n",
       "        vertical-align: top;\n",
       "    }\n",
       "\n",
       "    .dataframe thead th {\n",
       "        text-align: right;\n",
       "    }\n",
       "</style>\n",
       "<table border=\"1\" class=\"dataframe\">\n",
       "  <thead>\n",
       "    <tr style=\"text-align: right;\">\n",
       "      <th></th>\n",
       "      <th>Centroid</th>\n",
       "      <th>Net_Area_Count</th>\n",
       "      <th>Net_Area</th>\n",
       "      <th>Peak_CPS</th>\n",
       "      <th>FWHM</th>\n",
       "      <th>FWHM</th>\n",
       "      <th>Reduced</th>\n",
       "      <th>ROI_Total</th>\n",
       "      <th>ROI</th>\n",
       "      <th>File</th>\n",
       "      <th>...</th>\n",
       "      <th>Color</th>\n",
       "      <th>User_Label</th>\n",
       "      <th>Continuum_Type</th>\n",
       "      <th>BR</th>\n",
       "      <th>Dose</th>\n",
       "      <th>Centroid_err</th>\n",
       "      <th>FWHM_err</th>\n",
       "      <th>Resolution</th>\n",
       "      <th>Resolution_err</th>\n",
       "      <th>Peak_CPS_BR</th>\n",
       "    </tr>\n",
       "  </thead>\n",
       "  <tbody>\n",
       "    <tr>\n",
       "      <th>22</th>\n",
       "      <td>728.00</td>\n",
       "      <td>1449.7</td>\n",
       "      <td>63.5</td>\n",
       "      <td>0.002460</td>\n",
       "      <td>1.38</td>\n",
       "      <td>0.19%</td>\n",
       "      <td>0.61</td>\n",
       "      <td>7218.9</td>\n",
       "      <td>23</td>\n",
       "      <td></td>\n",
       "      <td>...</td>\n",
       "      <td>#FF66FF</td>\n",
       "      <td>NaN</td>\n",
       "      <td>Linear</td>\n",
       "      <td>NaN</td>\n",
       "      <td>NaN</td>\n",
       "      <td>0.015392</td>\n",
       "      <td>0.025629</td>\n",
       "      <td>0.001896</td>\n",
       "      <td>0.000035</td>\n",
       "      <td>NaN</td>\n",
       "    </tr>\n",
       "    <tr>\n",
       "      <th>44</th>\n",
       "      <td>1621.52</td>\n",
       "      <td>229.0</td>\n",
       "      <td>29.7</td>\n",
       "      <td>0.000389</td>\n",
       "      <td>2.14</td>\n",
       "      <td>0.13%</td>\n",
       "      <td>1.08</td>\n",
       "      <td>1532.8</td>\n",
       "      <td>45</td>\n",
       "      <td></td>\n",
       "      <td>...</td>\n",
       "      <td>#FF66FF</td>\n",
       "      <td>NaN</td>\n",
       "      <td>Linear</td>\n",
       "      <td>NaN</td>\n",
       "      <td>NaN</td>\n",
       "      <td>0.060053</td>\n",
       "      <td>0.099996</td>\n",
       "      <td>0.001320</td>\n",
       "      <td>0.000062</td>\n",
       "      <td>NaN</td>\n",
       "    </tr>\n",
       "  </tbody>\n",
       "</table>\n",
       "<p>2 rows × 27 columns</p>\n",
       "</div>"
      ],
      "text/plain": [
       "    Centroid  Net_Area_Count     Net_Area  Peak_CPS  FWHM     FWHM  Reduced  \\\n",
       "22    728.00          1449.7         63.5  0.002460  1.38    0.19%     0.61   \n",
       "44   1621.52           229.0         29.7  0.000389  2.14    0.13%     1.08   \n",
       "\n",
       "     ROI_Total  ROI  File  ...    Color   User_Label   Continuum_Type  BR  \\\n",
       "22      7218.9   23        ...  #FF66FF          NaN           Linear NaN   \n",
       "44      1532.8   45        ...  #FF66FF          NaN           Linear NaN   \n",
       "\n",
       "    Dose  Centroid_err  FWHM_err Resolution Resolution_err Peak_CPS_BR  \n",
       "22   NaN      0.015392  0.025629   0.001896       0.000035         NaN  \n",
       "44   NaN      0.060053  0.099996   0.001320       0.000062         NaN  \n",
       "\n",
       "[2 rows x 27 columns]"
      ]
     },
     "execution_count": 297,
     "metadata": {},
     "output_type": "execute_result"
    }
   ],
   "source": [
    "df_1[df_1['Nuclide'] == 'Bi212']"
   ]
  },
  {
   "cell_type": "code",
   "execution_count": 309,
   "metadata": {},
   "outputs": [],
   "source": [
    "pd.unique(nndc_df[['Photopeak_Energy']].values.ravel())\n",
    "nndc_df.drop_duplicates(subset = \"Photopeak_Energy\",inplace = True)"
   ]
  },
  {
   "cell_type": "code",
   "execution_count": 282,
   "metadata": {},
   "outputs": [],
   "source": [
    "nndc_df.rename( columns = {'Rad Ene.  ' : 'Photopeak_Energy','Unc       .2':'BR_err','Unc       ':'E_err'},inplace=True)"
   ]
  },
  {
   "cell_type": "code",
   "execution_count": 286,
   "metadata": {},
   "outputs": [
    {
     "data": {
      "text/html": [
       "<div>\n",
       "<style scoped>\n",
       "    .dataframe tbody tr th:only-of-type {\n",
       "        vertical-align: middle;\n",
       "    }\n",
       "\n",
       "    .dataframe tbody tr th {\n",
       "        vertical-align: top;\n",
       "    }\n",
       "\n",
       "    .dataframe thead th {\n",
       "        text-align: right;\n",
       "    }\n",
       "</style>\n",
       "<table border=\"1\" class=\"dataframe\">\n",
       "  <thead>\n",
       "    <tr style=\"text-align: right;\">\n",
       "      <th></th>\n",
       "      <th>Photopeak_Energy</th>\n",
       "      <th>Rad Int.</th>\n",
       "    </tr>\n",
       "  </thead>\n",
       "  <tbody>\n",
       "    <tr>\n",
       "      <th>0</th>\n",
       "      <td>5750.00</td>\n",
       "      <td>0.47000</td>\n",
       "    </tr>\n",
       "    <tr>\n",
       "      <th>1</th>\n",
       "      <td>6010.00</td>\n",
       "      <td>5.00000</td>\n",
       "    </tr>\n",
       "    <tr>\n",
       "      <th>2</th>\n",
       "      <td>6300.00</td>\n",
       "      <td>26.00000</td>\n",
       "    </tr>\n",
       "    <tr>\n",
       "      <th>3</th>\n",
       "      <td>6340.00</td>\n",
       "      <td>35.00000</td>\n",
       "    </tr>\n",
       "    <tr>\n",
       "      <th>4</th>\n",
       "      <td>5302.00</td>\n",
       "      <td>0.00004</td>\n",
       "    </tr>\n",
       "    <tr>\n",
       "      <th>...</th>\n",
       "      <td>...</td>\n",
       "      <td>...</td>\n",
       "    </tr>\n",
       "    <tr>\n",
       "      <th>147</th>\n",
       "      <td>1078.62</td>\n",
       "      <td>0.56400</td>\n",
       "    </tr>\n",
       "    <tr>\n",
       "      <th>148</th>\n",
       "      <td>1512.70</td>\n",
       "      <td>0.29000</td>\n",
       "    </tr>\n",
       "    <tr>\n",
       "      <th>149</th>\n",
       "      <td>1620.50</td>\n",
       "      <td>1.47000</td>\n",
       "    </tr>\n",
       "    <tr>\n",
       "      <th>150</th>\n",
       "      <td>1679.70</td>\n",
       "      <td>0.05800</td>\n",
       "    </tr>\n",
       "    <tr>\n",
       "      <th>151</th>\n",
       "      <td>1806.00</td>\n",
       "      <td>0.09000</td>\n",
       "    </tr>\n",
       "  </tbody>\n",
       "</table>\n",
       "<p>152 rows × 2 columns</p>\n",
       "</div>"
      ],
      "text/plain": [
       "     Photopeak_Energy  Rad Int.  \n",
       "0             5750.00     0.47000\n",
       "1             6010.00     5.00000\n",
       "2             6300.00    26.00000\n",
       "3             6340.00    35.00000\n",
       "4             5302.00     0.00004\n",
       "..                ...         ...\n",
       "147           1078.62     0.56400\n",
       "148           1512.70     0.29000\n",
       "149           1620.50     1.47000\n",
       "150           1679.70     0.05800\n",
       "151           1806.00     0.09000\n",
       "\n",
       "[152 rows x 2 columns]"
      ]
     },
     "execution_count": 286,
     "metadata": {},
     "output_type": "execute_result"
    }
   ],
   "source": [
    "nndc_df[['Photopeak_Energy','Rad Int.  ']]"
   ]
  },
  {
   "cell_type": "code",
   "execution_count": 303,
   "metadata": {},
   "outputs": [
    {
     "data": {
      "text/plain": [
       "Index(['A  ', 'Element', 'Z  ', 'N  ', 'Par. Elevel', 'Unc. ', 'JPi       ',\n",
       "       'Dec Mode', 'T1/2 (txt)    ', 'T1/2 (num)        ', 'Daughter',\n",
       "       'Radiation', 'Rad subtype ', 'Photopeak_Energy', 'Unc       ',\n",
       "       'EP Ene.   ', 'Unc       .1', 'Rad Int.  ', 'Unc       .2',\n",
       "       'Dose        ', 'Unc       .3'],\n",
       "      dtype='object')"
      ]
     },
     "execution_count": 303,
     "metadata": {},
     "output_type": "execute_result"
    }
   ],
   "source": [
    "nndc_df.columns"
   ]
  },
  {
   "cell_type": "code",
   "execution_count": null,
   "metadata": {},
   "outputs": [],
   "source": []
  }
 ],
 "metadata": {
  "kernelspec": {
   "display_name": "Python 3 (ipykernel)",
   "language": "python",
   "name": "python3"
  },
  "language_info": {
   "codemirror_mode": {
    "name": "ipython",
    "version": 3
   },
   "file_extension": ".py",
   "mimetype": "text/x-python",
   "name": "python",
   "nbconvert_exporter": "python",
   "pygments_lexer": "ipython3",
   "version": "3.11.5"
  },
  "vscode": {
   "interpreter": {
    "hash": "aee8b7b246df8f9039afb4144a1f6fd8d2ca17a180786b69acc140d282b71a49"
   }
  }
 },
 "nbformat": 4,
 "nbformat_minor": 2
}
